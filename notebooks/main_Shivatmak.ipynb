{
 "cells": [
  {
   "cell_type": "code",
   "execution_count": 1,
   "metadata": {},
   "outputs": [],
   "source": [
    "import warnings\n",
    "import pandas as pd\n",
    "warnings.filterwarnings(\"ignore\", category=UserWarning, module=\"urllib3\")\n",
    "# Setting the working directory\n",
    "import os\n",
    "os.chdir('/Users/shivatmaksharma/D/Uni Work/Advanced ML/Assignment 3/Flight_Fare_Prediction-main')"
   ]
  },
  {
   "cell_type": "code",
   "execution_count": 3,
   "metadata": {},
   "outputs": [
    {
     "name": "stdout",
     "output_type": "stream",
     "text": [
      "Epoch 1/50\n",
      "1150/1151 [============================>.] - ETA: 0s - loss: 97189.5859 - mean_squared_error: 97189.5859 - mean_absolute_error: 225.5342\n",
      "Epoch 1: val_loss improved from inf to 38029.79688, saving model to models/best_model_Shivatmak\n",
      "INFO:tensorflow:Assets written to: models/best_model_Shivatmak/assets\n"
     ]
    },
    {
     "name": "stderr",
     "output_type": "stream",
     "text": [
      "INFO:tensorflow:Assets written to: models/best_model_Shivatmak/assets\n"
     ]
    },
    {
     "name": "stdout",
     "output_type": "stream",
     "text": [
      "1151/1151 [==============================] - 30s 25ms/step - loss: 97176.6328 - mean_squared_error: 97176.6328 - mean_absolute_error: 225.5138 - val_loss: 38029.7969 - val_mean_squared_error: 38029.7969 - val_mean_absolute_error: 131.9404\n",
      "Epoch 2/50\n",
      "1150/1151 [============================>.] - ETA: 0s - loss: 37733.8242 - mean_squared_error: 37733.8281 - mean_absolute_error: 132.1703\n",
      "Epoch 2: val_loss improved from 38029.79688 to 34053.75000, saving model to models/best_model_Shivatmak\n",
      "INFO:tensorflow:Assets written to: models/best_model_Shivatmak/assets\n"
     ]
    },
    {
     "name": "stderr",
     "output_type": "stream",
     "text": [
      "INFO:tensorflow:Assets written to: models/best_model_Shivatmak/assets\n"
     ]
    },
    {
     "name": "stdout",
     "output_type": "stream",
     "text": [
      "1151/1151 [==============================] - 31s 27ms/step - loss: 37733.4453 - mean_squared_error: 37733.4492 - mean_absolute_error: 132.1696 - val_loss: 34053.7500 - val_mean_squared_error: 34053.7461 - val_mean_absolute_error: 124.5325\n",
      "Epoch 3/50\n",
      "1150/1151 [============================>.] - ETA: 0s - loss: 35057.4062 - mean_squared_error: 35057.4102 - mean_absolute_error: 128.7371\n",
      "Epoch 3: val_loss improved from 34053.75000 to 31952.88281, saving model to models/best_model_Shivatmak\n",
      "INFO:tensorflow:Assets written to: models/best_model_Shivatmak/assets\n"
     ]
    },
    {
     "name": "stderr",
     "output_type": "stream",
     "text": [
      "INFO:tensorflow:Assets written to: models/best_model_Shivatmak/assets\n"
     ]
    },
    {
     "name": "stdout",
     "output_type": "stream",
     "text": [
      "1151/1151 [==============================] - 31s 27ms/step - loss: 35056.4180 - mean_squared_error: 35056.4180 - mean_absolute_error: 128.7363 - val_loss: 31952.8828 - val_mean_squared_error: 31952.8828 - val_mean_absolute_error: 122.5293\n",
      "Epoch 4/50\n",
      "1149/1151 [============================>.] - ETA: 0s - loss: 33232.6602 - mean_squared_error: 33232.6602 - mean_absolute_error: 126.6672\n",
      "Epoch 4: val_loss improved from 31952.88281 to 30323.52539, saving model to models/best_model_Shivatmak\n",
      "INFO:tensorflow:Assets written to: models/best_model_Shivatmak/assets\n"
     ]
    },
    {
     "name": "stderr",
     "output_type": "stream",
     "text": [
      "INFO:tensorflow:Assets written to: models/best_model_Shivatmak/assets\n"
     ]
    },
    {
     "name": "stdout",
     "output_type": "stream",
     "text": [
      "1151/1151 [==============================] - 31s 27ms/step - loss: 33230.8750 - mean_squared_error: 33230.8750 - mean_absolute_error: 126.6646 - val_loss: 30323.5254 - val_mean_squared_error: 30323.5254 - val_mean_absolute_error: 119.7132\n",
      "Epoch 5/50\n",
      "1150/1151 [============================>.] - ETA: 0s - loss: 32265.9297 - mean_squared_error: 32265.9297 - mean_absolute_error: 124.8426\n",
      "Epoch 5: val_loss improved from 30323.52539 to 29711.21680, saving model to models/best_model_Shivatmak\n",
      "INFO:tensorflow:Assets written to: models/best_model_Shivatmak/assets\n"
     ]
    },
    {
     "name": "stderr",
     "output_type": "stream",
     "text": [
      "INFO:tensorflow:Assets written to: models/best_model_Shivatmak/assets\n"
     ]
    },
    {
     "name": "stdout",
     "output_type": "stream",
     "text": [
      "1151/1151 [==============================] - 32s 28ms/step - loss: 32266.8086 - mean_squared_error: 32266.8086 - mean_absolute_error: 124.8432 - val_loss: 29711.2168 - val_mean_squared_error: 29711.2168 - val_mean_absolute_error: 118.4836\n",
      "Epoch 6/50\n",
      "1149/1151 [============================>.] - ETA: 0s - loss: 31627.0059 - mean_squared_error: 31627.0059 - mean_absolute_error: 123.1128\n",
      "Epoch 6: val_loss improved from 29711.21680 to 29054.74219, saving model to models/best_model_Shivatmak\n",
      "INFO:tensorflow:Assets written to: models/best_model_Shivatmak/assets\n"
     ]
    },
    {
     "name": "stderr",
     "output_type": "stream",
     "text": [
      "INFO:tensorflow:Assets written to: models/best_model_Shivatmak/assets\n"
     ]
    },
    {
     "name": "stdout",
     "output_type": "stream",
     "text": [
      "1151/1151 [==============================] - 32s 28ms/step - loss: 31626.4609 - mean_squared_error: 31626.4609 - mean_absolute_error: 123.1119 - val_loss: 29054.7422 - val_mean_squared_error: 29054.7422 - val_mean_absolute_error: 116.4935\n",
      "Epoch 7/50\n",
      "1149/1151 [============================>.] - ETA: 0s - loss: 31157.3789 - mean_squared_error: 31157.3789 - mean_absolute_error: 121.9518\n",
      "Epoch 7: val_loss improved from 29054.74219 to 28690.29688, saving model to models/best_model_Shivatmak\n",
      "INFO:tensorflow:Assets written to: models/best_model_Shivatmak/assets\n"
     ]
    },
    {
     "name": "stderr",
     "output_type": "stream",
     "text": [
      "INFO:tensorflow:Assets written to: models/best_model_Shivatmak/assets\n"
     ]
    },
    {
     "name": "stdout",
     "output_type": "stream",
     "text": [
      "1151/1151 [==============================] - 33s 29ms/step - loss: 31157.5605 - mean_squared_error: 31157.5605 - mean_absolute_error: 121.9528 - val_loss: 28690.2969 - val_mean_squared_error: 28690.2969 - val_mean_absolute_error: 115.7420\n",
      "Epoch 8/50\n",
      "1149/1151 [============================>.] - ETA: 0s - loss: 30925.9531 - mean_squared_error: 30925.9531 - mean_absolute_error: 121.3880\n",
      "Epoch 8: val_loss improved from 28690.29688 to 28487.90234, saving model to models/best_model_Shivatmak\n",
      "INFO:tensorflow:Assets written to: models/best_model_Shivatmak/assets\n"
     ]
    },
    {
     "name": "stderr",
     "output_type": "stream",
     "text": [
      "INFO:tensorflow:Assets written to: models/best_model_Shivatmak/assets\n"
     ]
    },
    {
     "name": "stdout",
     "output_type": "stream",
     "text": [
      "1151/1151 [==============================] - 32s 28ms/step - loss: 30925.0801 - mean_squared_error: 30925.0801 - mean_absolute_error: 121.3872 - val_loss: 28487.9023 - val_mean_squared_error: 28487.9023 - val_mean_absolute_error: 114.9260\n",
      "Epoch 9/50\n",
      "1150/1151 [============================>.] - ETA: 0s - loss: 30722.7422 - mean_squared_error: 30722.7422 - mean_absolute_error: 120.8735\n",
      "Epoch 9: val_loss improved from 28487.90234 to 28249.54688, saving model to models/best_model_Shivatmak\n",
      "INFO:tensorflow:Assets written to: models/best_model_Shivatmak/assets\n"
     ]
    },
    {
     "name": "stderr",
     "output_type": "stream",
     "text": [
      "INFO:tensorflow:Assets written to: models/best_model_Shivatmak/assets\n"
     ]
    },
    {
     "name": "stdout",
     "output_type": "stream",
     "text": [
      "1151/1151 [==============================] - 33s 28ms/step - loss: 30722.7754 - mean_squared_error: 30722.7754 - mean_absolute_error: 120.8733 - val_loss: 28249.5469 - val_mean_squared_error: 28249.5469 - val_mean_absolute_error: 114.5682\n",
      "Epoch 10/50\n",
      "1149/1151 [============================>.] - ETA: 0s - loss: 30522.0938 - mean_squared_error: 30522.0938 - mean_absolute_error: 120.3845\n",
      "Epoch 10: val_loss improved from 28249.54688 to 28036.38867, saving model to models/best_model_Shivatmak\n",
      "INFO:tensorflow:Assets written to: models/best_model_Shivatmak/assets\n"
     ]
    },
    {
     "name": "stderr",
     "output_type": "stream",
     "text": [
      "INFO:tensorflow:Assets written to: models/best_model_Shivatmak/assets\n"
     ]
    },
    {
     "name": "stdout",
     "output_type": "stream",
     "text": [
      "1151/1151 [==============================] - 32s 28ms/step - loss: 30523.2500 - mean_squared_error: 30523.2500 - mean_absolute_error: 120.3850 - val_loss: 28036.3887 - val_mean_squared_error: 28036.3887 - val_mean_absolute_error: 114.2352\n",
      "Epoch 11/50\n",
      "1150/1151 [============================>.] - ETA: 0s - loss: 30363.0020 - mean_squared_error: 30363.0020 - mean_absolute_error: 120.0139\n",
      "Epoch 11: val_loss improved from 28036.38867 to 27905.52930, saving model to models/best_model_Shivatmak\n",
      "INFO:tensorflow:Assets written to: models/best_model_Shivatmak/assets\n"
     ]
    },
    {
     "name": "stderr",
     "output_type": "stream",
     "text": [
      "INFO:tensorflow:Assets written to: models/best_model_Shivatmak/assets\n"
     ]
    },
    {
     "name": "stdout",
     "output_type": "stream",
     "text": [
      "1151/1151 [==============================] - 34s 29ms/step - loss: 30363.5000 - mean_squared_error: 30363.5000 - mean_absolute_error: 120.0140 - val_loss: 27905.5293 - val_mean_squared_error: 27905.5293 - val_mean_absolute_error: 113.5177\n",
      "Epoch 12/50\n",
      "1149/1151 [============================>.] - ETA: 0s - loss: 30245.8984 - mean_squared_error: 30245.8984 - mean_absolute_error: 119.7357\n",
      "Epoch 12: val_loss improved from 27905.52930 to 27771.73438, saving model to models/best_model_Shivatmak\n",
      "INFO:tensorflow:Assets written to: models/best_model_Shivatmak/assets\n"
     ]
    },
    {
     "name": "stderr",
     "output_type": "stream",
     "text": [
      "INFO:tensorflow:Assets written to: models/best_model_Shivatmak/assets\n"
     ]
    },
    {
     "name": "stdout",
     "output_type": "stream",
     "text": [
      "1151/1151 [==============================] - 32s 28ms/step - loss: 30245.1934 - mean_squared_error: 30245.1934 - mean_absolute_error: 119.7354 - val_loss: 27771.7344 - val_mean_squared_error: 27771.7344 - val_mean_absolute_error: 113.4041\n",
      "Epoch 13/50\n",
      "1149/1151 [============================>.] - ETA: 0s - loss: 30139.8223 - mean_squared_error: 30139.8223 - mean_absolute_error: 119.4966\n",
      "Epoch 13: val_loss improved from 27771.73438 to 27671.06445, saving model to models/best_model_Shivatmak\n",
      "INFO:tensorflow:Assets written to: models/best_model_Shivatmak/assets\n"
     ]
    },
    {
     "name": "stderr",
     "output_type": "stream",
     "text": [
      "INFO:tensorflow:Assets written to: models/best_model_Shivatmak/assets\n"
     ]
    },
    {
     "name": "stdout",
     "output_type": "stream",
     "text": [
      "1151/1151 [==============================] - 32s 28ms/step - loss: 30140.3047 - mean_squared_error: 30140.3047 - mean_absolute_error: 119.4967 - val_loss: 27671.0645 - val_mean_squared_error: 27671.0645 - val_mean_absolute_error: 113.1128\n",
      "Epoch 14/50\n",
      "1150/1151 [============================>.] - ETA: 0s - loss: 30054.2246 - mean_squared_error: 30054.2246 - mean_absolute_error: 119.3113\n",
      "Epoch 14: val_loss improved from 27671.06445 to 27593.64844, saving model to models/best_model_Shivatmak\n",
      "INFO:tensorflow:Assets written to: models/best_model_Shivatmak/assets\n"
     ]
    },
    {
     "name": "stderr",
     "output_type": "stream",
     "text": [
      "INFO:tensorflow:Assets written to: models/best_model_Shivatmak/assets\n"
     ]
    },
    {
     "name": "stdout",
     "output_type": "stream",
     "text": [
      "1151/1151 [==============================] - 33s 28ms/step - loss: 30053.1055 - mean_squared_error: 30053.1055 - mean_absolute_error: 119.3105 - val_loss: 27593.6484 - val_mean_squared_error: 27593.6484 - val_mean_absolute_error: 112.8231\n",
      "Epoch 15/50\n",
      "1149/1151 [============================>.] - ETA: 0s - loss: 29972.2891 - mean_squared_error: 29972.2891 - mean_absolute_error: 119.1389\n",
      "Epoch 15: val_loss improved from 27593.64844 to 27495.53711, saving model to models/best_model_Shivatmak\n",
      "INFO:tensorflow:Assets written to: models/best_model_Shivatmak/assets\n"
     ]
    },
    {
     "name": "stderr",
     "output_type": "stream",
     "text": [
      "INFO:tensorflow:Assets written to: models/best_model_Shivatmak/assets\n"
     ]
    },
    {
     "name": "stdout",
     "output_type": "stream",
     "text": [
      "1151/1151 [==============================] - 33s 29ms/step - loss: 29972.9395 - mean_squared_error: 29972.9395 - mean_absolute_error: 119.1397 - val_loss: 27495.5371 - val_mean_squared_error: 27495.5371 - val_mean_absolute_error: 112.6470\n",
      "Epoch 16/50\n",
      "1150/1151 [============================>.] - ETA: 0s - loss: 29898.8984 - mean_squared_error: 29898.8984 - mean_absolute_error: 118.9901\n",
      "Epoch 16: val_loss improved from 27495.53711 to 27407.69727, saving model to models/best_model_Shivatmak\n",
      "INFO:tensorflow:Assets written to: models/best_model_Shivatmak/assets\n"
     ]
    },
    {
     "name": "stderr",
     "output_type": "stream",
     "text": [
      "INFO:tensorflow:Assets written to: models/best_model_Shivatmak/assets\n"
     ]
    },
    {
     "name": "stdout",
     "output_type": "stream",
     "text": [
      "1151/1151 [==============================] - 32s 28ms/step - loss: 29899.0957 - mean_squared_error: 29899.0957 - mean_absolute_error: 118.9902 - val_loss: 27407.6973 - val_mean_squared_error: 27407.6973 - val_mean_absolute_error: 112.7138\n",
      "Epoch 17/50\n",
      "1150/1151 [============================>.] - ETA: 0s - loss: 29835.7637 - mean_squared_error: 29835.7637 - mean_absolute_error: 118.8562\n",
      "Epoch 17: val_loss improved from 27407.69727 to 27340.68750, saving model to models/best_model_Shivatmak\n",
      "INFO:tensorflow:Assets written to: models/best_model_Shivatmak/assets\n"
     ]
    },
    {
     "name": "stderr",
     "output_type": "stream",
     "text": [
      "INFO:tensorflow:Assets written to: models/best_model_Shivatmak/assets\n"
     ]
    },
    {
     "name": "stdout",
     "output_type": "stream",
     "text": [
      "1151/1151 [==============================] - 31s 27ms/step - loss: 29835.4922 - mean_squared_error: 29835.4922 - mean_absolute_error: 118.8561 - val_loss: 27340.6875 - val_mean_squared_error: 27340.6875 - val_mean_absolute_error: 112.3591\n",
      "Epoch 18/50\n",
      "1149/1151 [============================>.] - ETA: 0s - loss: 29763.3281 - mean_squared_error: 29763.3281 - mean_absolute_error: 118.7030\n",
      "Epoch 18: val_loss improved from 27340.68750 to 27259.42383, saving model to models/best_model_Shivatmak\n",
      "INFO:tensorflow:Assets written to: models/best_model_Shivatmak/assets\n"
     ]
    },
    {
     "name": "stderr",
     "output_type": "stream",
     "text": [
      "INFO:tensorflow:Assets written to: models/best_model_Shivatmak/assets\n"
     ]
    },
    {
     "name": "stdout",
     "output_type": "stream",
     "text": [
      "1151/1151 [==============================] - 32s 28ms/step - loss: 29763.4707 - mean_squared_error: 29763.4707 - mean_absolute_error: 118.7032 - val_loss: 27259.4238 - val_mean_squared_error: 27259.4238 - val_mean_absolute_error: 112.2250\n",
      "Epoch 19/50\n",
      "1149/1151 [============================>.] - ETA: 0s - loss: 29693.5996 - mean_squared_error: 29693.5996 - mean_absolute_error: 118.5682\n",
      "Epoch 19: val_loss improved from 27259.42383 to 27186.14453, saving model to models/best_model_Shivatmak\n",
      "INFO:tensorflow:Assets written to: models/best_model_Shivatmak/assets\n"
     ]
    },
    {
     "name": "stderr",
     "output_type": "stream",
     "text": [
      "INFO:tensorflow:Assets written to: models/best_model_Shivatmak/assets\n"
     ]
    },
    {
     "name": "stdout",
     "output_type": "stream",
     "text": [
      "1151/1151 [==============================] - 33s 29ms/step - loss: 29693.3359 - mean_squared_error: 29693.3359 - mean_absolute_error: 118.5691 - val_loss: 27186.1445 - val_mean_squared_error: 27186.1445 - val_mean_absolute_error: 112.0512\n",
      "Epoch 20/50\n",
      "1149/1151 [============================>.] - ETA: 0s - loss: 29626.4160 - mean_squared_error: 29626.4160 - mean_absolute_error: 118.4281\n",
      "Epoch 20: val_loss improved from 27186.14453 to 27114.62695, saving model to models/best_model_Shivatmak\n",
      "INFO:tensorflow:Assets written to: models/best_model_Shivatmak/assets\n"
     ]
    },
    {
     "name": "stderr",
     "output_type": "stream",
     "text": [
      "INFO:tensorflow:Assets written to: models/best_model_Shivatmak/assets\n"
     ]
    },
    {
     "name": "stdout",
     "output_type": "stream",
     "text": [
      "1151/1151 [==============================] - 33s 29ms/step - loss: 29627.0488 - mean_squared_error: 29627.0488 - mean_absolute_error: 118.4281 - val_loss: 27114.6270 - val_mean_squared_error: 27114.6270 - val_mean_absolute_error: 111.8559\n",
      "Epoch 21/50\n",
      "1150/1151 [============================>.] - ETA: 0s - loss: 29557.5410 - mean_squared_error: 29557.5410 - mean_absolute_error: 118.2787\n",
      "Epoch 21: val_loss improved from 27114.62695 to 27022.78516, saving model to models/best_model_Shivatmak\n",
      "INFO:tensorflow:Assets written to: models/best_model_Shivatmak/assets\n"
     ]
    },
    {
     "name": "stderr",
     "output_type": "stream",
     "text": [
      "INFO:tensorflow:Assets written to: models/best_model_Shivatmak/assets\n"
     ]
    },
    {
     "name": "stdout",
     "output_type": "stream",
     "text": [
      "1151/1151 [==============================] - 33s 29ms/step - loss: 29558.0547 - mean_squared_error: 29558.0547 - mean_absolute_error: 118.2792 - val_loss: 27022.7852 - val_mean_squared_error: 27022.7852 - val_mean_absolute_error: 111.8156\n",
      "Epoch 22/50\n",
      "1149/1151 [============================>.] - ETA: 0s - loss: 29493.8906 - mean_squared_error: 29493.8906 - mean_absolute_error: 118.1587\n",
      "Epoch 22: val_loss improved from 27022.78516 to 26968.26758, saving model to models/best_model_Shivatmak\n",
      "INFO:tensorflow:Assets written to: models/best_model_Shivatmak/assets\n"
     ]
    },
    {
     "name": "stderr",
     "output_type": "stream",
     "text": [
      "INFO:tensorflow:Assets written to: models/best_model_Shivatmak/assets\n"
     ]
    },
    {
     "name": "stdout",
     "output_type": "stream",
     "text": [
      "1151/1151 [==============================] - 34s 29ms/step - loss: 29493.3906 - mean_squared_error: 29493.3906 - mean_absolute_error: 118.1588 - val_loss: 26968.2676 - val_mean_squared_error: 26968.2676 - val_mean_absolute_error: 111.4400\n",
      "Epoch 23/50\n",
      "1149/1151 [============================>.] - ETA: 0s - loss: 29423.6484 - mean_squared_error: 29423.6484 - mean_absolute_error: 118.0353\n",
      "Epoch 23: val_loss improved from 26968.26758 to 26896.53516, saving model to models/best_model_Shivatmak\n",
      "INFO:tensorflow:Assets written to: models/best_model_Shivatmak/assets\n"
     ]
    },
    {
     "name": "stderr",
     "output_type": "stream",
     "text": [
      "INFO:tensorflow:Assets written to: models/best_model_Shivatmak/assets\n"
     ]
    },
    {
     "name": "stdout",
     "output_type": "stream",
     "text": [
      "1151/1151 [==============================] - 33s 29ms/step - loss: 29424.0430 - mean_squared_error: 29424.0430 - mean_absolute_error: 118.0349 - val_loss: 26896.5352 - val_mean_squared_error: 26896.5352 - val_mean_absolute_error: 111.2869\n",
      "Epoch 24/50\n",
      "1150/1151 [============================>.] - ETA: 0s - loss: 29359.6445 - mean_squared_error: 29359.6445 - mean_absolute_error: 117.8908\n",
      "Epoch 24: val_loss improved from 26896.53516 to 26804.42188, saving model to models/best_model_Shivatmak\n",
      "INFO:tensorflow:Assets written to: models/best_model_Shivatmak/assets\n"
     ]
    },
    {
     "name": "stderr",
     "output_type": "stream",
     "text": [
      "INFO:tensorflow:Assets written to: models/best_model_Shivatmak/assets\n"
     ]
    },
    {
     "name": "stdout",
     "output_type": "stream",
     "text": [
      "1151/1151 [==============================] - 33s 28ms/step - loss: 29359.6914 - mean_squared_error: 29359.6914 - mean_absolute_error: 117.8909 - val_loss: 26804.4219 - val_mean_squared_error: 26804.4219 - val_mean_absolute_error: 111.3405\n",
      "Epoch 25/50\n",
      "1149/1151 [============================>.] - ETA: 0s - loss: 29297.4512 - mean_squared_error: 29297.4512 - mean_absolute_error: 117.7886\n",
      "Epoch 25: val_loss improved from 26804.42188 to 26728.76367, saving model to models/best_model_Shivatmak\n",
      "INFO:tensorflow:Assets written to: models/best_model_Shivatmak/assets\n"
     ]
    },
    {
     "name": "stderr",
     "output_type": "stream",
     "text": [
      "INFO:tensorflow:Assets written to: models/best_model_Shivatmak/assets\n"
     ]
    },
    {
     "name": "stdout",
     "output_type": "stream",
     "text": [
      "1151/1151 [==============================] - 33s 29ms/step - loss: 29297.3828 - mean_squared_error: 29297.3828 - mean_absolute_error: 117.7892 - val_loss: 26728.7637 - val_mean_squared_error: 26728.7637 - val_mean_absolute_error: 111.1784\n",
      "Epoch 26/50\n",
      "1150/1151 [============================>.] - ETA: 0s - loss: 29230.6855 - mean_squared_error: 29230.6855 - mean_absolute_error: 117.6582\n",
      "Epoch 26: val_loss improved from 26728.76367 to 26673.98438, saving model to models/best_model_Shivatmak\n",
      "INFO:tensorflow:Assets written to: models/best_model_Shivatmak/assets\n"
     ]
    },
    {
     "name": "stderr",
     "output_type": "stream",
     "text": [
      "INFO:tensorflow:Assets written to: models/best_model_Shivatmak/assets\n"
     ]
    },
    {
     "name": "stdout",
     "output_type": "stream",
     "text": [
      "1151/1151 [==============================] - 34s 29ms/step - loss: 29230.9316 - mean_squared_error: 29230.9316 - mean_absolute_error: 117.6585 - val_loss: 26673.9844 - val_mean_squared_error: 26673.9844 - val_mean_absolute_error: 110.9526\n",
      "Epoch 27/50\n",
      "1151/1151 [==============================] - ETA: 0s - loss: 29161.1777 - mean_squared_error: 29161.1777 - mean_absolute_error: 117.5414\n",
      "Epoch 27: val_loss improved from 26673.98438 to 26587.82227, saving model to models/best_model_Shivatmak\n",
      "INFO:tensorflow:Assets written to: models/best_model_Shivatmak/assets\n"
     ]
    },
    {
     "name": "stderr",
     "output_type": "stream",
     "text": [
      "INFO:tensorflow:Assets written to: models/best_model_Shivatmak/assets\n"
     ]
    },
    {
     "name": "stdout",
     "output_type": "stream",
     "text": [
      "1151/1151 [==============================] - 33s 28ms/step - loss: 29161.1777 - mean_squared_error: 29161.1777 - mean_absolute_error: 117.5414 - val_loss: 26587.8223 - val_mean_squared_error: 26587.8223 - val_mean_absolute_error: 110.8424\n",
      "Epoch 28/50\n",
      "1149/1151 [============================>.] - ETA: 0s - loss: 29096.4980 - mean_squared_error: 29096.4980 - mean_absolute_error: 117.4172\n",
      "Epoch 28: val_loss improved from 26587.82227 to 26536.20117, saving model to models/best_model_Shivatmak\n",
      "INFO:tensorflow:Assets written to: models/best_model_Shivatmak/assets\n"
     ]
    },
    {
     "name": "stderr",
     "output_type": "stream",
     "text": [
      "INFO:tensorflow:Assets written to: models/best_model_Shivatmak/assets\n"
     ]
    },
    {
     "name": "stdout",
     "output_type": "stream",
     "text": [
      "1151/1151 [==============================] - 33s 28ms/step - loss: 29096.2168 - mean_squared_error: 29096.2168 - mean_absolute_error: 117.4174 - val_loss: 26536.2012 - val_mean_squared_error: 26536.2012 - val_mean_absolute_error: 110.6464\n",
      "Epoch 29/50\n",
      "1150/1151 [============================>.] - ETA: 0s - loss: 29046.3145 - mean_squared_error: 29046.3145 - mean_absolute_error: 117.3089\n",
      "Epoch 29: val_loss improved from 26536.20117 to 26458.23438, saving model to models/best_model_Shivatmak\n",
      "INFO:tensorflow:Assets written to: models/best_model_Shivatmak/assets\n"
     ]
    },
    {
     "name": "stderr",
     "output_type": "stream",
     "text": [
      "INFO:tensorflow:Assets written to: models/best_model_Shivatmak/assets\n"
     ]
    },
    {
     "name": "stdout",
     "output_type": "stream",
     "text": [
      "1151/1151 [==============================] - 34s 29ms/step - loss: 29045.9453 - mean_squared_error: 29045.9453 - mean_absolute_error: 117.3089 - val_loss: 26458.2344 - val_mean_squared_error: 26458.2344 - val_mean_absolute_error: 110.8363\n",
      "Epoch 30/50\n",
      "1149/1151 [============================>.] - ETA: 0s - loss: 28996.1562 - mean_squared_error: 28996.1562 - mean_absolute_error: 117.1975\n",
      "Epoch 30: val_loss improved from 26458.23438 to 26431.43359, saving model to models/best_model_Shivatmak\n",
      "INFO:tensorflow:Assets written to: models/best_model_Shivatmak/assets\n"
     ]
    },
    {
     "name": "stderr",
     "output_type": "stream",
     "text": [
      "INFO:tensorflow:Assets written to: models/best_model_Shivatmak/assets\n"
     ]
    },
    {
     "name": "stdout",
     "output_type": "stream",
     "text": [
      "1151/1151 [==============================] - 34s 29ms/step - loss: 28996.1680 - mean_squared_error: 28996.1680 - mean_absolute_error: 117.1973 - val_loss: 26431.4336 - val_mean_squared_error: 26431.4336 - val_mean_absolute_error: 110.4776\n",
      "Epoch 31/50\n",
      "1150/1151 [============================>.] - ETA: 0s - loss: 28947.6895 - mean_squared_error: 28947.6895 - mean_absolute_error: 117.0833\n",
      "Epoch 31: val_loss improved from 26431.43359 to 26396.09961, saving model to models/best_model_Shivatmak\n",
      "INFO:tensorflow:Assets written to: models/best_model_Shivatmak/assets\n"
     ]
    },
    {
     "name": "stderr",
     "output_type": "stream",
     "text": [
      "INFO:tensorflow:Assets written to: models/best_model_Shivatmak/assets\n"
     ]
    },
    {
     "name": "stdout",
     "output_type": "stream",
     "text": [
      "1151/1151 [==============================] - 33s 29ms/step - loss: 28947.5254 - mean_squared_error: 28947.5254 - mean_absolute_error: 117.0832 - val_loss: 26396.0996 - val_mean_squared_error: 26396.0996 - val_mean_absolute_error: 110.3797\n",
      "Epoch 32/50\n",
      "1150/1151 [============================>.] - ETA: 0s - loss: 28915.1230 - mean_squared_error: 28915.1230 - mean_absolute_error: 117.0062\n",
      "Epoch 32: val_loss improved from 26396.09961 to 26370.93555, saving model to models/best_model_Shivatmak\n",
      "INFO:tensorflow:Assets written to: models/best_model_Shivatmak/assets\n"
     ]
    },
    {
     "name": "stderr",
     "output_type": "stream",
     "text": [
      "INFO:tensorflow:Assets written to: models/best_model_Shivatmak/assets\n"
     ]
    },
    {
     "name": "stdout",
     "output_type": "stream",
     "text": [
      "1151/1151 [==============================] - 32s 28ms/step - loss: 28914.9004 - mean_squared_error: 28914.9004 - mean_absolute_error: 117.0061 - val_loss: 26370.9355 - val_mean_squared_error: 26370.9355 - val_mean_absolute_error: 110.1801\n",
      "Epoch 33/50\n",
      "1150/1151 [============================>.] - ETA: 0s - loss: 28870.1855 - mean_squared_error: 28870.1855 - mean_absolute_error: 116.8866\n",
      "Epoch 33: val_loss improved from 26370.93555 to 26357.56445, saving model to models/best_model_Shivatmak\n",
      "INFO:tensorflow:Assets written to: models/best_model_Shivatmak/assets\n"
     ]
    },
    {
     "name": "stderr",
     "output_type": "stream",
     "text": [
      "INFO:tensorflow:Assets written to: models/best_model_Shivatmak/assets\n"
     ]
    },
    {
     "name": "stdout",
     "output_type": "stream",
     "text": [
      "1151/1151 [==============================] - 32s 28ms/step - loss: 28870.2051 - mean_squared_error: 28870.2051 - mean_absolute_error: 116.8865 - val_loss: 26357.5645 - val_mean_squared_error: 26357.5645 - val_mean_absolute_error: 110.0267\n",
      "Epoch 34/50\n",
      "1150/1151 [============================>.] - ETA: 0s - loss: 28836.6641 - mean_squared_error: 28836.6641 - mean_absolute_error: 116.8157\n",
      "Epoch 34: val_loss improved from 26357.56445 to 26286.70117, saving model to models/best_model_Shivatmak\n",
      "INFO:tensorflow:Assets written to: models/best_model_Shivatmak/assets\n"
     ]
    },
    {
     "name": "stderr",
     "output_type": "stream",
     "text": [
      "INFO:tensorflow:Assets written to: models/best_model_Shivatmak/assets\n"
     ]
    },
    {
     "name": "stdout",
     "output_type": "stream",
     "text": [
      "1151/1151 [==============================] - 32s 28ms/step - loss: 28836.9785 - mean_squared_error: 28836.9785 - mean_absolute_error: 116.8160 - val_loss: 26286.7012 - val_mean_squared_error: 26286.7012 - val_mean_absolute_error: 110.1950\n",
      "Epoch 35/50\n",
      "1149/1151 [============================>.] - ETA: 0s - loss: 28801.1543 - mean_squared_error: 28801.1543 - mean_absolute_error: 116.7349\n",
      "Epoch 35: val_loss improved from 26286.70117 to 26263.81055, saving model to models/best_model_Shivatmak\n",
      "INFO:tensorflow:Assets written to: models/best_model_Shivatmak/assets\n"
     ]
    },
    {
     "name": "stderr",
     "output_type": "stream",
     "text": [
      "INFO:tensorflow:Assets written to: models/best_model_Shivatmak/assets\n"
     ]
    },
    {
     "name": "stdout",
     "output_type": "stream",
     "text": [
      "1151/1151 [==============================] - 33s 28ms/step - loss: 28801.6172 - mean_squared_error: 28801.6172 - mean_absolute_error: 116.7348 - val_loss: 26263.8105 - val_mean_squared_error: 26263.8105 - val_mean_absolute_error: 110.0451\n",
      "Epoch 36/50\n",
      "1149/1151 [============================>.] - ETA: 0s - loss: 28769.3691 - mean_squared_error: 28769.3691 - mean_absolute_error: 116.6595\n",
      "Epoch 36: val_loss improved from 26263.81055 to 26239.50781, saving model to models/best_model_Shivatmak\n",
      "INFO:tensorflow:Assets written to: models/best_model_Shivatmak/assets\n"
     ]
    },
    {
     "name": "stderr",
     "output_type": "stream",
     "text": [
      "INFO:tensorflow:Assets written to: models/best_model_Shivatmak/assets\n"
     ]
    },
    {
     "name": "stdout",
     "output_type": "stream",
     "text": [
      "1151/1151 [==============================] - 32s 28ms/step - loss: 28768.1719 - mean_squared_error: 28768.1719 - mean_absolute_error: 116.6585 - val_loss: 26239.5078 - val_mean_squared_error: 26239.5078 - val_mean_absolute_error: 110.0051\n",
      "Epoch 37/50\n",
      "1150/1151 [============================>.] - ETA: 0s - loss: 28745.1543 - mean_squared_error: 28745.1543 - mean_absolute_error: 116.5993\n",
      "Epoch 37: val_loss improved from 26239.50781 to 26222.03320, saving model to models/best_model_Shivatmak\n",
      "INFO:tensorflow:Assets written to: models/best_model_Shivatmak/assets\n"
     ]
    },
    {
     "name": "stderr",
     "output_type": "stream",
     "text": [
      "INFO:tensorflow:Assets written to: models/best_model_Shivatmak/assets\n"
     ]
    },
    {
     "name": "stdout",
     "output_type": "stream",
     "text": [
      "1151/1151 [==============================] - 32s 28ms/step - loss: 28745.3516 - mean_squared_error: 28745.3516 - mean_absolute_error: 116.5995 - val_loss: 26222.0332 - val_mean_squared_error: 26222.0332 - val_mean_absolute_error: 109.8704\n",
      "Epoch 38/50\n",
      "1150/1151 [============================>.] - ETA: 0s - loss: 28704.7637 - mean_squared_error: 28704.7637 - mean_absolute_error: 116.5087\n",
      "Epoch 38: val_loss improved from 26222.03320 to 26180.27148, saving model to models/best_model_Shivatmak\n",
      "INFO:tensorflow:Assets written to: models/best_model_Shivatmak/assets\n"
     ]
    },
    {
     "name": "stderr",
     "output_type": "stream",
     "text": [
      "INFO:tensorflow:Assets written to: models/best_model_Shivatmak/assets\n"
     ]
    },
    {
     "name": "stdout",
     "output_type": "stream",
     "text": [
      "1151/1151 [==============================] - 33s 28ms/step - loss: 28704.9355 - mean_squared_error: 28704.9355 - mean_absolute_error: 116.5088 - val_loss: 26180.2715 - val_mean_squared_error: 26180.2715 - val_mean_absolute_error: 109.8347\n",
      "Epoch 39/50\n",
      "1150/1151 [============================>.] - ETA: 0s - loss: 28676.8828 - mean_squared_error: 28676.8828 - mean_absolute_error: 116.4414\n",
      "Epoch 39: val_loss improved from 26180.27148 to 26143.74023, saving model to models/best_model_Shivatmak\n",
      "INFO:tensorflow:Assets written to: models/best_model_Shivatmak/assets\n"
     ]
    },
    {
     "name": "stderr",
     "output_type": "stream",
     "text": [
      "INFO:tensorflow:Assets written to: models/best_model_Shivatmak/assets\n"
     ]
    },
    {
     "name": "stdout",
     "output_type": "stream",
     "text": [
      "1151/1151 [==============================] - 32s 28ms/step - loss: 28676.7246 - mean_squared_error: 28676.7246 - mean_absolute_error: 116.4408 - val_loss: 26143.7402 - val_mean_squared_error: 26143.7402 - val_mean_absolute_error: 109.8703\n",
      "Epoch 40/50\n",
      "1149/1151 [============================>.] - ETA: 0s - loss: 28640.4863 - mean_squared_error: 28640.4863 - mean_absolute_error: 116.3762\n",
      "Epoch 40: val_loss did not improve from 26143.74023\n",
      "1151/1151 [==============================] - 31s 27ms/step - loss: 28640.6328 - mean_squared_error: 28640.6328 - mean_absolute_error: 116.3767 - val_loss: 26145.3262 - val_mean_squared_error: 26145.3262 - val_mean_absolute_error: 109.6574\n",
      "Epoch 41/50\n",
      "1149/1151 [============================>.] - ETA: 0s - loss: 28627.4180 - mean_squared_error: 28627.4180 - mean_absolute_error: 116.3277\n",
      "Epoch 41: val_loss improved from 26143.74023 to 26092.63086, saving model to models/best_model_Shivatmak\n",
      "INFO:tensorflow:Assets written to: models/best_model_Shivatmak/assets\n"
     ]
    },
    {
     "name": "stderr",
     "output_type": "stream",
     "text": [
      "INFO:tensorflow:Assets written to: models/best_model_Shivatmak/assets\n"
     ]
    },
    {
     "name": "stdout",
     "output_type": "stream",
     "text": [
      "1151/1151 [==============================] - 33s 28ms/step - loss: 28628.0879 - mean_squared_error: 28628.0879 - mean_absolute_error: 116.3277 - val_loss: 26092.6309 - val_mean_squared_error: 26092.6309 - val_mean_absolute_error: 109.8143\n",
      "Epoch 42/50\n",
      "1149/1151 [============================>.] - ETA: 0s - loss: 28600.0078 - mean_squared_error: 28600.0078 - mean_absolute_error: 116.2684\n",
      "Epoch 42: val_loss did not improve from 26092.63086\n",
      "1151/1151 [==============================] - 32s 28ms/step - loss: 28600.4531 - mean_squared_error: 28600.4531 - mean_absolute_error: 116.2679 - val_loss: 26099.9688 - val_mean_squared_error: 26099.9688 - val_mean_absolute_error: 109.6158\n",
      "Epoch 43/50\n",
      "1151/1151 [==============================] - ETA: 0s - loss: 28566.9590 - mean_squared_error: 28566.9590 - mean_absolute_error: 116.1976\n",
      "Epoch 43: val_loss improved from 26092.63086 to 26078.84766, saving model to models/best_model_Shivatmak\n",
      "INFO:tensorflow:Assets written to: models/best_model_Shivatmak/assets\n"
     ]
    },
    {
     "name": "stderr",
     "output_type": "stream",
     "text": [
      "INFO:tensorflow:Assets written to: models/best_model_Shivatmak/assets\n"
     ]
    },
    {
     "name": "stdout",
     "output_type": "stream",
     "text": [
      "1151/1151 [==============================] - 32s 28ms/step - loss: 28566.9590 - mean_squared_error: 28566.9590 - mean_absolute_error: 116.1976 - val_loss: 26078.8477 - val_mean_squared_error: 26078.8477 - val_mean_absolute_error: 109.6222\n",
      "Epoch 44/50\n",
      "1149/1151 [============================>.] - ETA: 0s - loss: 28544.1074 - mean_squared_error: 28544.1074 - mean_absolute_error: 116.1468\n",
      "Epoch 44: val_loss improved from 26078.84766 to 26054.68164, saving model to models/best_model_Shivatmak\n",
      "INFO:tensorflow:Assets written to: models/best_model_Shivatmak/assets\n"
     ]
    },
    {
     "name": "stderr",
     "output_type": "stream",
     "text": [
      "INFO:tensorflow:Assets written to: models/best_model_Shivatmak/assets\n"
     ]
    },
    {
     "name": "stdout",
     "output_type": "stream",
     "text": [
      "1151/1151 [==============================] - 31s 27ms/step - loss: 28544.1797 - mean_squared_error: 28544.1797 - mean_absolute_error: 116.1470 - val_loss: 26054.6816 - val_mean_squared_error: 26054.6816 - val_mean_absolute_error: 109.5262\n",
      "Epoch 45/50\n",
      "1149/1151 [============================>.] - ETA: 0s - loss: 28508.2188 - mean_squared_error: 28508.2188 - mean_absolute_error: 116.0663\n",
      "Epoch 45: val_loss improved from 26054.68164 to 26024.94141, saving model to models/best_model_Shivatmak\n",
      "INFO:tensorflow:Assets written to: models/best_model_Shivatmak/assets\n"
     ]
    },
    {
     "name": "stderr",
     "output_type": "stream",
     "text": [
      "INFO:tensorflow:Assets written to: models/best_model_Shivatmak/assets\n"
     ]
    },
    {
     "name": "stdout",
     "output_type": "stream",
     "text": [
      "1151/1151 [==============================] - 32s 28ms/step - loss: 28508.6328 - mean_squared_error: 28508.6328 - mean_absolute_error: 116.0665 - val_loss: 26024.9414 - val_mean_squared_error: 26024.9414 - val_mean_absolute_error: 109.6061\n",
      "Epoch 46/50\n",
      "1150/1151 [============================>.] - ETA: 0s - loss: 28484.0977 - mean_squared_error: 28484.0977 - mean_absolute_error: 116.0115\n",
      "Epoch 46: val_loss improved from 26024.94141 to 26016.38281, saving model to models/best_model_Shivatmak\n",
      "INFO:tensorflow:Assets written to: models/best_model_Shivatmak/assets\n"
     ]
    },
    {
     "name": "stderr",
     "output_type": "stream",
     "text": [
      "INFO:tensorflow:Assets written to: models/best_model_Shivatmak/assets\n"
     ]
    },
    {
     "name": "stdout",
     "output_type": "stream",
     "text": [
      "1151/1151 [==============================] - 31s 27ms/step - loss: 28483.9453 - mean_squared_error: 28483.9453 - mean_absolute_error: 116.0113 - val_loss: 26016.3828 - val_mean_squared_error: 26016.3828 - val_mean_absolute_error: 109.4330\n",
      "Epoch 47/50\n",
      "1149/1151 [============================>.] - ETA: 0s - loss: 28463.3184 - mean_squared_error: 28463.3184 - mean_absolute_error: 115.9664\n",
      "Epoch 47: val_loss improved from 26016.38281 to 25983.06836, saving model to models/best_model_Shivatmak\n",
      "INFO:tensorflow:Assets written to: models/best_model_Shivatmak/assets\n"
     ]
    },
    {
     "name": "stderr",
     "output_type": "stream",
     "text": [
      "INFO:tensorflow:Assets written to: models/best_model_Shivatmak/assets\n"
     ]
    },
    {
     "name": "stdout",
     "output_type": "stream",
     "text": [
      "1151/1151 [==============================] - 32s 28ms/step - loss: 28463.2090 - mean_squared_error: 28463.2090 - mean_absolute_error: 115.9662 - val_loss: 25983.0684 - val_mean_squared_error: 25983.0684 - val_mean_absolute_error: 109.5274\n",
      "Epoch 48/50\n",
      "1149/1151 [============================>.] - ETA: 0s - loss: 28453.3691 - mean_squared_error: 28453.3691 - mean_absolute_error: 115.9235\n",
      "Epoch 48: val_loss improved from 25983.06836 to 25966.30078, saving model to models/best_model_Shivatmak\n",
      "INFO:tensorflow:Assets written to: models/best_model_Shivatmak/assets\n"
     ]
    },
    {
     "name": "stderr",
     "output_type": "stream",
     "text": [
      "INFO:tensorflow:Assets written to: models/best_model_Shivatmak/assets\n"
     ]
    },
    {
     "name": "stdout",
     "output_type": "stream",
     "text": [
      "1151/1151 [==============================] - 32s 27ms/step - loss: 28453.8027 - mean_squared_error: 28453.8027 - mean_absolute_error: 115.9241 - val_loss: 25966.3008 - val_mean_squared_error: 25966.3008 - val_mean_absolute_error: 109.5805\n",
      "Epoch 49/50\n",
      "1149/1151 [============================>.] - ETA: 0s - loss: 28423.4160 - mean_squared_error: 28423.4160 - mean_absolute_error: 115.8544\n",
      "Epoch 49: val_loss did not improve from 25966.30078\n",
      "1151/1151 [==============================] - 31s 27ms/step - loss: 28423.6250 - mean_squared_error: 28423.6250 - mean_absolute_error: 115.8547 - val_loss: 25978.9707 - val_mean_squared_error: 25978.9707 - val_mean_absolute_error: 109.3971\n",
      "Epoch 50/50\n",
      "1150/1151 [============================>.] - ETA: 0s - loss: 28399.7969 - mean_squared_error: 28399.7969 - mean_absolute_error: 115.8010\n",
      "Epoch 50: val_loss improved from 25966.30078 to 25940.98828, saving model to models/best_model_Shivatmak\n",
      "INFO:tensorflow:Assets written to: models/best_model_Shivatmak/assets\n"
     ]
    },
    {
     "name": "stderr",
     "output_type": "stream",
     "text": [
      "INFO:tensorflow:Assets written to: models/best_model_Shivatmak/assets\n"
     ]
    },
    {
     "name": "stdout",
     "output_type": "stream",
     "text": [
      "1151/1151 [==============================] - 32s 28ms/step - loss: 28400.2363 - mean_squared_error: 28400.2363 - mean_absolute_error: 115.8013 - val_loss: 25940.9883 - val_mean_squared_error: 25940.9883 - val_mean_absolute_error: 109.3747\n",
      "320/320 [==============================] - 4s 11ms/step - loss: 25911.4922 - mean_squared_error: 25911.4922 - mean_absolute_error: 109.3152\n",
      "Model Loss: 25911.4921875\n",
      "Mean Squared Error: 25911.4921875\n",
      "Mean Absolute Error: 109.31523895263672\n"
     ]
    }
   ],
   "source": [
    "# Import necessary modules\n",
    "from src.models.train_model import LSTMModel\n",
    "from tensorflow.keras.callbacks import ModelCheckpoint, EarlyStopping\n",
    "import pandas as pd\n",
    "\n",
    "# Load your data\n",
    "data = pd.read_csv(\"data/processed/merged_data_processed_dl.csv\")\n",
    "\n",
    "# Define your categorical and numerical features and the target column\n",
    "categorical_features = ['startingAirport', 'destinationAirport', 'segmentsCabinCode']\n",
    "numerical_features = ['totalTravelDistance', 'segmentsDurationInSeconds', 'segmentsDistance']\n",
    "target_column = 'modeFare'\n",
    "\n",
    "# Instantiate the LSTMModel\n",
    "model = LSTMModel(data, categorical_features, numerical_features, target_column)\n",
    "\n",
    "# The compute_embedding_sizes method is called within the __init__ method of LSTMModel\n",
    "# No need to call it separately here.\n",
    "\n",
    "# Preprocess the data\n",
    "model.preprocess_data()\n",
    "\n",
    "# Build the model\n",
    "model.build_model()\n",
    "\n",
    "# Define a ModelCheckpoint callback to save the best model in the TensorFlow SavedModel format\n",
    "model_checkpoint = ModelCheckpoint(\n",
    "    'models/best_model_Shivatmak',\n",
    "    monitor='val_loss', \n",
    "    save_best_only=True, \n",
    "    save_weights_only=False, \n",
    "    verbose=1\n",
    ")\n",
    "\n",
    "# Define an EarlyStopping callback for stopping training when the validation loss stops improving\n",
    "early_stopping = EarlyStopping(\n",
    "    monitor='val_loss', \n",
    "    patience=5, \n",
    "    restore_best_weights=True\n",
    ")\n",
    "\n",
    "# Train the model with the ModelCheckpoint and EarlyStopping callbacks\n",
    "model.train_model(epochs=50, batch_size=26024, callbacks=[model_checkpoint, early_stopping])\n",
    "\n",
    "# Evaluate the model with the same large batch size\n",
    "performance = model.evaluate_model(batch_size=26024)\n",
    "print(f\"Model Loss: {performance['loss']}\")\n",
    "print(f\"Mean Squared Error: {performance['mean_squared_error']}\")\n",
    "print(f\"Mean Absolute Error: {performance['mean_absolute_error']}\")"
   ]
  }
 ],
 "metadata": {
  "kernelspec": {
   "display_name": "Python 3",
   "language": "python",
   "name": "python3"
  },
  "language_info": {
   "codemirror_mode": {
    "name": "ipython",
    "version": 3
   },
   "file_extension": ".py",
   "mimetype": "text/x-python",
   "name": "python",
   "nbconvert_exporter": "python",
   "pygments_lexer": "ipython3",
   "version": "3.11.5"
  }
 },
 "nbformat": 4,
 "nbformat_minor": 2
}
