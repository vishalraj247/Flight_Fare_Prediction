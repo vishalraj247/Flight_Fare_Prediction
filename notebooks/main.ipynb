{
 "cells": [
  {
   "cell_type": "code",
   "execution_count": 1,
   "metadata": {},
   "outputs": [],
   "source": [
    "# Setting the working directory\n",
    "import os\n",
    "os.chdir('/Users/vishalraj/GitHub/Flight_Fare_Prediction')"
   ]
  },
  {
   "cell_type": "code",
   "execution_count": 2,
   "metadata": {},
   "outputs": [],
   "source": [
    "from src.data.make_dataset import load_and_save_data_by_folder\n",
    "\n",
    "path = 'data/raw'\n",
    "\n",
    "# Load and save concatenated data by folder\n",
    "load_and_save_data_by_folder(path)"
   ]
  },
  {
   "cell_type": "code",
   "execution_count": 3,
   "metadata": {},
   "outputs": [
    {
     "name": "stdout",
     "output_type": "stream",
     "text": [
      "                              legId  searchDate  flightDate startingAirport  \\\n",
      "0  ee4aaff43c557e1704ebf52b8abf25ad  2022-05-13  2022-06-15             ATL   \n",
      "1  284bffb121ffdafba55f69d6d89a4b7d  2022-05-13  2022-06-15             ATL   \n",
      "2  8efdd07b82644146d45978f61d081f3b  2022-05-13  2022-06-15             ATL   \n",
      "3  e03c8964b4feb4e206636a9c5c0015b2  2022-05-13  2022-06-15             ATL   \n",
      "4  f44658d6761962cecc3eabc0a29d6ef9  2022-05-13  2022-06-15             ATL   \n",
      "\n",
      "  destinationAirport travelDuration  isBasicEconomy  isRefundable  isNonStop  \\\n",
      "0                BOS        PT8H51M           False         False      False   \n",
      "1                BOS       PT12H31M           False         False      False   \n",
      "2                BOS        PT4H35M           False         False      False   \n",
      "3                BOS        PT4H38M           False         False      False   \n",
      "4                BOS        PT6H43M           False         False      False   \n",
      "\n",
      "   totalFare  ...  segmentsArrivalTimeEpochSeconds  \\\n",
      "0     124.78  ...           1655327040||1655351760   \n",
      "1     138.58  ...           1655309340||1655349060   \n",
      "2     148.60  ...           1655312340||1655321940   \n",
      "3     148.60  ...           1655300100||1655309340   \n",
      "4     148.60  ...           1655304660||1655321940   \n",
      "\n",
      "                              segmentsArrivalTimeRaw  \\\n",
      "0  2022-06-15T17:04:00.000-04:00||2022-06-15T23:5...   \n",
      "1  2022-06-15T12:09:00.000-04:00||2022-06-15T23:1...   \n",
      "2  2022-06-15T12:59:00.000-04:00||2022-06-15T15:3...   \n",
      "3  2022-06-15T09:35:00.000-04:00||2022-06-15T12:0...   \n",
      "4  2022-06-15T10:51:00.000-04:00||2022-06-15T15:3...   \n",
      "\n",
      "  segmentsArrivalAirportCode segmentsDepartureAirportCode  \\\n",
      "0                   FLL||BOS                     ATL||FLL   \n",
      "1                   MCO||BOS                     ATL||MCO   \n",
      "2                   DCA||BOS                     ATL||DCA   \n",
      "3                   PHL||BOS                     ATL||PHL   \n",
      "4                   DCA||BOS                     ATL||DCA   \n",
      "\n",
      "                    segmentsAirlineName segmentsAirlineCode  \\\n",
      "0      Spirit Airlines||Spirit Airlines              NK||NK   \n",
      "1      Spirit Airlines||Spirit Airlines              NK||NK   \n",
      "2  American Airlines||American Airlines              AA||AA   \n",
      "3  American Airlines||American Airlines              AA||AA   \n",
      "4  American Airlines||American Airlines              AA||AA   \n",
      "\n",
      "                        segmentsEquipmentDescription  \\\n",
      "0                                                 ||   \n",
      "1  AIRBUS INDUSTRIE A320 SHARKLETS||AIRBUS INDUST...   \n",
      "2                           Embraer 175||Airbus A319   \n",
      "3                           Airbus A320||Airbus A321   \n",
      "4             Canadair Regional Jet 900||Airbus A319   \n",
      "\n",
      "  segmentsDurationInSeconds segmentsDistance segmentsCabinCode  \n",
      "0               7140||11760       None||None      coach||coach  \n",
      "1               5340||11160       None||None      coach||coach  \n",
      "2                6900||5940         541||406      coach||coach  \n",
      "3                7440||5160         667||280      coach||coach  \n",
      "4                6900||5940         541||406      coach||coach  \n",
      "\n",
      "[5 rows x 23 columns]\n"
     ]
    }
   ],
   "source": [
    "import pandas as pd\n",
    "df = pd.read_csv(\"data/interim/ATL/ATL_concatenated.csv\")\n",
    "print(df.head())"
   ]
  },
  {
   "cell_type": "code",
   "execution_count": 3,
   "metadata": {},
   "outputs": [
    {
     "name": "stdout",
     "output_type": "stream",
     "text": [
      "{'legId': dtype('O'), 'searchDate': dtype('O'), 'flightDate': dtype('O'), 'startingAirport': dtype('O'), 'destinationAirport': dtype('O'), 'travelDuration': dtype('O'), 'isBasicEconomy': dtype('bool'), 'isRefundable': dtype('bool'), 'isNonStop': dtype('bool'), 'totalFare': dtype('float64'), 'totalTravelDistance': dtype('float64'), 'segmentsDepartureTimeEpochSeconds': dtype('O'), 'segmentsDepartureTimeRaw': dtype('O'), 'segmentsArrivalTimeEpochSeconds': dtype('O'), 'segmentsArrivalTimeRaw': dtype('O'), 'segmentsArrivalAirportCode': dtype('O'), 'segmentsDepartureAirportCode': dtype('O'), 'segmentsAirlineName': dtype('O'), 'segmentsAirlineCode': dtype('O'), 'segmentsEquipmentDescription': dtype('O'), 'segmentsDurationInSeconds': dtype('O'), 'segmentsDistance': dtype('O'), 'segmentsCabinCode': dtype('O')}\n"
     ]
    }
   ],
   "source": [
    "# Extract dtypes\n",
    "dtype_dict = df.dtypes.to_dict()\n",
    "\n",
    "print(dtype_dict)"
   ]
  },
  {
   "cell_type": "code",
   "execution_count": 2,
   "metadata": {},
   "outputs": [
    {
     "name": "stdout",
     "output_type": "stream",
     "text": [
      "No missing values in the processed data.\n",
      "No missing values in the processed data.\n",
      "No missing values in the processed data.\n",
      "No missing values in the processed data.\n",
      "No missing values in the processed data.\n",
      "No missing values in the processed data.\n",
      "No missing values in the processed data.\n",
      "No missing values in the processed data.\n",
      "No missing values in the processed data.\n",
      "No missing values in the processed data.\n",
      "No missing values in the processed data.\n",
      "No missing values in the processed data.\n",
      "No missing values in the processed data.\n",
      "No missing values in the processed data.\n",
      "No missing values in the processed data.\n",
      "No missing values in the processed data.\n"
     ]
    }
   ],
   "source": [
    "from src.data.data_preprocessor import DataPreprocessor\n",
    "\n",
    "# Create an instance of the DataPreprocessor class\n",
    "preprocessor = DataPreprocessor()\n",
    "\n",
    "# Process all folders\n",
    "preprocessor.process_all_folders()"
   ]
  }
 ],
 "metadata": {
  "kernelspec": {
   "display_name": "Python 3",
   "language": "python",
   "name": "python3"
  },
  "language_info": {
   "codemirror_mode": {
    "name": "ipython",
    "version": 3
   },
   "file_extension": ".py",
   "mimetype": "text/x-python",
   "name": "python",
   "nbconvert_exporter": "python",
   "pygments_lexer": "ipython3",
   "version": "3.9.6"
  }
 },
 "nbformat": 4,
 "nbformat_minor": 2
}
