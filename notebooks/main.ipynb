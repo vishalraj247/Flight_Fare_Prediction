{
 "cells": [
  {
   "cell_type": "code",
   "execution_count": 1,
   "metadata": {},
   "outputs": [],
   "source": [
    "import warnings\n",
    "warnings.filterwarnings(\"ignore\", category=UserWarning, module=\"urllib3\")\n",
    "# Setting the working directory\n",
    "import os\n",
    "os.chdir('/Users/vishalraj/GitHub/Flight_Fare_Prediction')"
   ]
  },
  {
   "cell_type": "code",
   "execution_count": 2,
   "metadata": {},
   "outputs": [],
   "source": [
    "from src.data.make_dataset import load_and_save_data_by_folder\n",
    "\n",
    "path = 'data/raw'\n",
    "\n",
    "# Load and save concatenated data by folder\n",
    "load_and_save_data_by_folder(path)"
   ]
  },
  {
   "cell_type": "code",
   "execution_count": 3,
   "metadata": {},
   "outputs": [
    {
     "name": "stdout",
     "output_type": "stream",
     "text": [
      "                              legId  searchDate  flightDate startingAirport  \\\n",
      "0  ee4aaff43c557e1704ebf52b8abf25ad  2022-05-13  2022-06-15             ATL   \n",
      "1  284bffb121ffdafba55f69d6d89a4b7d  2022-05-13  2022-06-15             ATL   \n",
      "2  8efdd07b82644146d45978f61d081f3b  2022-05-13  2022-06-15             ATL   \n",
      "3  e03c8964b4feb4e206636a9c5c0015b2  2022-05-13  2022-06-15             ATL   \n",
      "4  f44658d6761962cecc3eabc0a29d6ef9  2022-05-13  2022-06-15             ATL   \n",
      "\n",
      "  destinationAirport travelDuration  isBasicEconomy  isRefundable  isNonStop  \\\n",
      "0                BOS        PT8H51M           False         False      False   \n",
      "1                BOS       PT12H31M           False         False      False   \n",
      "2                BOS        PT4H35M           False         False      False   \n",
      "3                BOS        PT4H38M           False         False      False   \n",
      "4                BOS        PT6H43M           False         False      False   \n",
      "\n",
      "   totalFare  ...  segmentsArrivalTimeEpochSeconds  \\\n",
      "0     124.78  ...           1655327040||1655351760   \n",
      "1     138.58  ...           1655309340||1655349060   \n",
      "2     148.60  ...           1655312340||1655321940   \n",
      "3     148.60  ...           1655300100||1655309340   \n",
      "4     148.60  ...           1655304660||1655321940   \n",
      "\n",
      "                              segmentsArrivalTimeRaw  \\\n",
      "0  2022-06-15T17:04:00.000-04:00||2022-06-15T23:5...   \n",
      "1  2022-06-15T12:09:00.000-04:00||2022-06-15T23:1...   \n",
      "2  2022-06-15T12:59:00.000-04:00||2022-06-15T15:3...   \n",
      "3  2022-06-15T09:35:00.000-04:00||2022-06-15T12:0...   \n",
      "4  2022-06-15T10:51:00.000-04:00||2022-06-15T15:3...   \n",
      "\n",
      "  segmentsArrivalAirportCode segmentsDepartureAirportCode  \\\n",
      "0                   FLL||BOS                     ATL||FLL   \n",
      "1                   MCO||BOS                     ATL||MCO   \n",
      "2                   DCA||BOS                     ATL||DCA   \n",
      "3                   PHL||BOS                     ATL||PHL   \n",
      "4                   DCA||BOS                     ATL||DCA   \n",
      "\n",
      "                    segmentsAirlineName segmentsAirlineCode  \\\n",
      "0      Spirit Airlines||Spirit Airlines              NK||NK   \n",
      "1      Spirit Airlines||Spirit Airlines              NK||NK   \n",
      "2  American Airlines||American Airlines              AA||AA   \n",
      "3  American Airlines||American Airlines              AA||AA   \n",
      "4  American Airlines||American Airlines              AA||AA   \n",
      "\n",
      "                        segmentsEquipmentDescription  \\\n",
      "0                                                 ||   \n",
      "1  AIRBUS INDUSTRIE A320 SHARKLETS||AIRBUS INDUST...   \n",
      "2                           Embraer 175||Airbus A319   \n",
      "3                           Airbus A320||Airbus A321   \n",
      "4             Canadair Regional Jet 900||Airbus A319   \n",
      "\n",
      "  segmentsDurationInSeconds segmentsDistance segmentsCabinCode  \n",
      "0               7140||11760       None||None      coach||coach  \n",
      "1               5340||11160       None||None      coach||coach  \n",
      "2                6900||5940         541||406      coach||coach  \n",
      "3                7440||5160         667||280      coach||coach  \n",
      "4                6900||5940         541||406      coach||coach  \n",
      "\n",
      "[5 rows x 23 columns]\n"
     ]
    }
   ],
   "source": [
    "import pandas as pd\n",
    "df = pd.read_csv(\"data/interim/ATL/ATL_concatenated.csv\")\n",
    "print(df.head())"
   ]
  },
  {
   "cell_type": "code",
   "execution_count": 3,
   "metadata": {},
   "outputs": [
    {
     "name": "stdout",
     "output_type": "stream",
     "text": [
      "{'legId': dtype('O'), 'searchDate': dtype('O'), 'flightDate': dtype('O'), 'startingAirport': dtype('O'), 'destinationAirport': dtype('O'), 'travelDuration': dtype('O'), 'isBasicEconomy': dtype('bool'), 'isRefundable': dtype('bool'), 'isNonStop': dtype('bool'), 'totalFare': dtype('float64'), 'totalTravelDistance': dtype('float64'), 'segmentsDepartureTimeEpochSeconds': dtype('O'), 'segmentsDepartureTimeRaw': dtype('O'), 'segmentsArrivalTimeEpochSeconds': dtype('O'), 'segmentsArrivalTimeRaw': dtype('O'), 'segmentsArrivalAirportCode': dtype('O'), 'segmentsDepartureAirportCode': dtype('O'), 'segmentsAirlineName': dtype('O'), 'segmentsAirlineCode': dtype('O'), 'segmentsEquipmentDescription': dtype('O'), 'segmentsDurationInSeconds': dtype('O'), 'segmentsDistance': dtype('O'), 'segmentsCabinCode': dtype('O')}\n"
     ]
    }
   ],
   "source": [
    "# Extract dtypes\n",
    "dtype_dict = df.dtypes.to_dict()\n",
    "\n",
    "print(dtype_dict)"
   ]
  },
  {
   "cell_type": "code",
   "execution_count": 2,
   "metadata": {},
   "outputs": [
    {
     "name": "stdout",
     "output_type": "stream",
     "text": [
      "Data before explosion:\n",
      "                              legId  searchDate  flightDate startingAirport  \\\n",
      "0  0b3984453c21318d9edd720e4526f77c  2022-05-18  2022-07-11             DFW   \n",
      "1  fbb38601065f0d023ac90f2e9a65044b  2022-04-29  2022-06-18             CLT   \n",
      "2  118a3a3ccfc0d9c1ec2834cbfa44d9ea  2022-05-03  2022-05-19             IAD   \n",
      "3  4b220a84a411d1770c8ff1e27e3edb7a  2022-05-02  2022-06-11             IAD   \n",
      "4  1294c04c5a5ac8c3889c8555480b8f9f  2022-04-25  2022-06-07             DTW   \n",
      "\n",
      "  destinationAirport travelDuration  isBasicEconomy  isRefundable  isNonStop  \\\n",
      "0                MIA        PT2H59M           False         False       True   \n",
      "1                IAD        PT4H52M           False         False      False   \n",
      "2                DEN        PT9H13M           False         False      False   \n",
      "3                JFK        PT1H19M           False         False       True   \n",
      "4                ATL       PT10H38M            True         False      False   \n",
      "\n",
      "   totalFare  ...  segmentsArrivalTimeEpochSeconds  \\\n",
      "0     227.60  ...                       1657578780   \n",
      "1     262.09  ...           1655576820||1655587980   \n",
      "2     350.59  ...           1652986320||1653014280   \n",
      "3     273.60  ...                       1654966740   \n",
      "4     171.20  ...           1654659180||1654691040   \n",
      "\n",
      "                              segmentsArrivalTimeRaw  \\\n",
      "0                      2022-07-11T18:33:00.000-04:00   \n",
      "1  2022-06-18T14:27:00.000-04:00||2022-06-18T17:3...   \n",
      "2  2022-05-19T14:52:00.000-04:00||2022-05-19T20:3...   \n",
      "3                      2022-06-11T12:59:00.000-04:00   \n",
      "4  2022-06-07T23:33:00.000-04:00||2022-06-08T08:2...   \n",
      "\n",
      "  segmentsArrivalAirportCode segmentsDepartureAirportCode segmentsAirlineName  \\\n",
      "0                        MIA                          DFW   American Airlines   \n",
      "1                   DTW||IAD                     CLT||DTW        Delta||Delta   \n",
      "2                   LGA||DEN                     IAD||LGA      United||United   \n",
      "3                        JFK                          IAD               Delta   \n",
      "4                   LGA||ATL                     DTW||LGA        Delta||Delta   \n",
      "\n",
      "  segmentsAirlineCode           segmentsEquipmentDescription  \\\n",
      "0                  AA                            Airbus A321   \n",
      "1              DL||DL  Boeing 717||Canadair Regional Jet 900   \n",
      "2              UA||UA                          ||Airbus A319   \n",
      "3                  DL              Canadair Regional Jet 900   \n",
      "4              DL||DL               Airbus A319||Airbus A321   \n",
      "\n",
      "  segmentsDurationInSeconds segmentsDistance segmentsCabinCode  \n",
      "0                     10740             1115             coach  \n",
      "1                6360||5580         505||391      coach||coach  \n",
      "2               5220||16440        221||1621      coach||coach  \n",
      "3                      4740              221             coach  \n",
      "4                6420||8640         485||762      coach||coach  \n",
      "\n",
      "[5 rows x 23 columns]\n",
      "Data after explosion:\n",
      "                              legId  searchDate  flightDate startingAirport  \\\n",
      "0  0b3984453c21318d9edd720e4526f77c  2022-05-18  2022-07-11             DFW   \n",
      "1  fbb38601065f0d023ac90f2e9a65044b  2022-04-29  2022-06-18             CLT   \n",
      "2  fbb38601065f0d023ac90f2e9a65044b  2022-04-29  2022-06-18             CLT   \n",
      "3  fbb38601065f0d023ac90f2e9a65044b  2022-04-29  2022-06-18             CLT   \n",
      "4  fbb38601065f0d023ac90f2e9a65044b  2022-04-29  2022-06-18             CLT   \n",
      "\n",
      "  destinationAirport travelDuration  isBasicEconomy  isRefundable  isNonStop  \\\n",
      "0                MIA        PT2H59M           False         False       True   \n",
      "1                IAD        PT4H52M           False         False      False   \n",
      "2                IAD        PT4H52M           False         False      False   \n",
      "3                IAD        PT4H52M           False         False      False   \n",
      "4                IAD        PT4H52M           False         False      False   \n",
      "\n",
      "   totalFare  ...  segmentsArrivalTimeEpochSeconds  \\\n",
      "0     227.60  ...                       1657578780   \n",
      "1     262.09  ...           1655576820||1655587980   \n",
      "2     262.09  ...           1655576820||1655587980   \n",
      "3     262.09  ...           1655576820||1655587980   \n",
      "4     262.09  ...           1655576820||1655587980   \n",
      "\n",
      "                              segmentsArrivalTimeRaw  \\\n",
      "0                      2022-07-11T18:33:00.000-04:00   \n",
      "1  2022-06-18T14:27:00.000-04:00||2022-06-18T17:3...   \n",
      "2  2022-06-18T14:27:00.000-04:00||2022-06-18T17:3...   \n",
      "3  2022-06-18T14:27:00.000-04:00||2022-06-18T17:3...   \n",
      "4  2022-06-18T14:27:00.000-04:00||2022-06-18T17:3...   \n",
      "\n",
      "  segmentsArrivalAirportCode segmentsDepartureAirportCode segmentsAirlineName  \\\n",
      "0                        MIA                          DFW   American Airlines   \n",
      "1                   DTW||IAD                     CLT||DTW        Delta||Delta   \n",
      "2                   DTW||IAD                     CLT||DTW        Delta||Delta   \n",
      "3                   DTW||IAD                     CLT||DTW        Delta||Delta   \n",
      "4                   DTW||IAD                     CLT||DTW        Delta||Delta   \n",
      "\n",
      "  segmentsAirlineCode           segmentsEquipmentDescription  \\\n",
      "0                  AA                            Airbus A321   \n",
      "1              DL||DL  Boeing 717||Canadair Regional Jet 900   \n",
      "2              DL||DL  Boeing 717||Canadair Regional Jet 900   \n",
      "3              DL||DL  Boeing 717||Canadair Regional Jet 900   \n",
      "4              DL||DL  Boeing 717||Canadair Regional Jet 900   \n",
      "\n",
      "  segmentsDurationInSeconds segmentsDistance segmentsCabinCode  \n",
      "0                     10740             1115             coach  \n",
      "1                      6360              505             coach  \n",
      "2                      6360              505             coach  \n",
      "3                      6360              391             coach  \n",
      "4                      6360              391             coach  \n",
      "\n",
      "[5 rows x 23 columns]\n",
      "Unique values in segmentsCabinCode after split and explode:\n",
      "['coach' 'premium coach' 'first' 'business']\n",
      "No missing values in the processed data.\n",
      "Checking unique values for 'startingAirport' after preprocessing:\n",
      "[1 2 3 4 5 6 7 8 9 10 11 12 13 14 15 16]\n",
      "\n",
      "Category Mappings:\n",
      "{'startingAirport': {'DFW': 1, 'CLT': 2, 'IAD': 3, 'DTW': 4, 'MIA': 5, 'EWR': 6, 'LGA': 7, 'LAX': 8, 'JFK': 9, 'PHL': 10, 'BOS': 11, 'SFO': 12, 'OAK': 13, 'ORD': 14, 'ATL': 15, 'DEN': 16, 'unknown': 0}, 'destinationAirport': {'MIA': 1, 'IAD': 2, 'DEN': 3, 'JFK': 4, 'ATL': 5, 'OAK': 6, 'PHL': 7, 'ORD': 8, 'SFO': 9, 'DFW': 10, 'LGA': 11, 'LAX': 12, 'CLT': 13, 'EWR': 14, 'DTW': 15, 'BOS': 16, 'unknown': 0}, 'segmentsCabinCode': {'coach': 1, 'coach||coach': 2, 'coach||coach||coach': 3, 'coach||coach||coach||coach': 4, 'premium coach': 5, 'coach||first': 6, 'first': 7, 'coach||coach||premium coach': 8, 'business': 9, 'first||first': 10, 'first||coach': 11, 'premium coach||premium coach': 12, 'premium coach||coach': 13, 'first||first||coach': 14, 'first||coach||coach': 15, 'coach||premium coach': 16, 'first||coach||first': 17, 'premium coach||coach||coach': 18, 'first||first||first': 19, 'coach||premium coach||coach': 20, 'coach||coach||first': 21, 'business||coach': 22, 'coach||premium coach||premium coach': 23, 'coach||business||coach': 24, 'coach||coach||first||coach': 25, 'business||business': 26, 'coach||business': 27, 'coach||coach||coach||premium coach': 28, 'coach||coach||coach||first': 29, 'coach||coach||business': 30, 'coach||first||coach': 31, 'premium coach||premium coach||coach': 32, 'coach||first||first': 33, 'business||coach||coach': 34, 'business||business||coach': 35, 'coach||business||business': 36, 'first||business': 37, 'first||coach||coach||coach': 38, 'coach||coach||premium coach||premium coach': 39, 'coach||coach||first||first': 40, 'business||first||first': 41, 'business||coach||business': 42, 'business||first': 43, 'first||first||coach||coach': 44, 'coach||coach||premium coach||coach': 45, 'unknown': 0}}\n"
     ]
    }
   ],
   "source": [
    "from src.data.data_preprocessor import DataPreprocessor\n",
    "\n",
    "# Create an instance of the DataPreprocessor class\n",
    "preprocessor = DataPreprocessor()\n",
    "\n",
    "# Process all folders\n",
    "preprocessor.merge_and_preprocess_all_datasets()\n",
    "\n",
    "print(\"Checking unique values for 'startingAirport' after preprocessing:\")\n",
    "print(preprocessor.data['startingAirport'].unique())\n",
    "\n",
    "print(\"\\nCategory Mappings:\")\n",
    "print(preprocessor.category_mappings)"
   ]
  },
  {
   "cell_type": "code",
   "execution_count": 5,
   "metadata": {},
   "outputs": [
    {
     "name": "stdout",
     "output_type": "stream",
     "text": [
      "11399945\n"
     ]
    }
   ],
   "source": [
    "import pandas as pd\n",
    "df1 = pd.read_csv(\"data/processed/merged_data_processed.csv\")\n",
    "#print(df1.head(20))\n",
    "print(len(df1))"
   ]
  },
  {
   "cell_type": "code",
   "execution_count": 9,
   "metadata": {},
   "outputs": [
    {
     "name": "stdout",
     "output_type": "stream",
     "text": [
      "[ 0  1  2  3  4  5  6  7  8  9 10 11 12 13 14 15]\n"
     ]
    }
   ],
   "source": [
    "unique_values = df1['destinationAirport'].unique()\n",
    "print(unique_values)"
   ]
  },
  {
   "cell_type": "code",
   "execution_count": 3,
   "metadata": {},
   "outputs": [
    {
     "name": "stderr",
     "output_type": "stream",
     "text": [
      "2023-10-20 04:45:21.085622: I metal_plugin/src/device/metal_device.cc:1154] Metal device set to: Apple M2 Max\n",
      "2023-10-20 04:45:21.085676: I metal_plugin/src/device/metal_device.cc:296] systemMemory: 32.00 GB\n",
      "2023-10-20 04:45:21.085685: I metal_plugin/src/device/metal_device.cc:313] maxCacheSize: 10.67 GB\n",
      "2023-10-20 04:45:21.086294: I tensorflow/core/common_runtime/pluggable_device/pluggable_device_factory.cc:306] Could not identify NUMA node of platform GPU ID 0, defaulting to 0. Your kernel may not have been built with NUMA support.\n",
      "2023-10-20 04:45:21.086656: I tensorflow/core/common_runtime/pluggable_device/pluggable_device_factory.cc:272] Created TensorFlow device (/job:localhost/replica:0/task:0/device:GPU:0 with 0 MB memory) -> physical PluggableDevice (device: 0, name: METAL, pci bus id: <undefined>)\n",
      "WARNING:absl:At this time, the v2.11+ optimizer `tf.keras.optimizers.Adam` runs slowly on M1/M2 Macs, please use the legacy Keras optimizer instead, located at `tf.keras.optimizers.legacy.Adam`.\n"
     ]
    },
    {
     "name": "stdout",
     "output_type": "stream",
     "text": [
      "Epoch 1/50\n"
     ]
    },
    {
     "name": "stderr",
     "output_type": "stream",
     "text": [
      "2023-10-20 04:45:58.073908: I tensorflow/core/grappler/optimizers/custom_graph_optimizer_registry.cc:117] Plugin optimizer for device_type GPU is enabled.\n",
      "2023-10-20 04:45:58.121043: E tensorflow/core/grappler/optimizers/meta_optimizer.cc:961] model_pruner failed: INVALID_ARGUMENT: Graph does not contain terminal node Adam/AssignAddVariableOp.\n"
     ]
    },
    {
     "name": "stdout",
     "output_type": "stream",
     "text": [
      "2440/2440 [==============================] - ETA: 0s - loss: 36721.4961 - mae: 134.3183 - mse: 36721.4961INFO:tensorflow:Assets written to: models/best_model/assets\n"
     ]
    },
    {
     "name": "stderr",
     "output_type": "stream",
     "text": [
      "INFO:tensorflow:Assets written to: models/best_model/assets\n"
     ]
    },
    {
     "name": "stdout",
     "output_type": "stream",
     "text": [
      "2440/2440 [==============================] - 287s 115ms/step - loss: 36721.4961 - mae: 134.3183 - mse: 36721.4961 - val_loss: 34842.4297 - val_mae: 131.5779 - val_mse: 34842.4297 - lr: 0.0050\n",
      "Epoch 2/50\n",
      "2440/2440 [==============================] - ETA: 0s - loss: 34774.5078 - mae: 131.9352 - mse: 34774.5078INFO:tensorflow:Assets written to: models/best_model/assets\n"
     ]
    },
    {
     "name": "stderr",
     "output_type": "stream",
     "text": [
      "INFO:tensorflow:Assets written to: models/best_model/assets\n"
     ]
    },
    {
     "name": "stdout",
     "output_type": "stream",
     "text": [
      "2440/2440 [==============================] - 274s 112ms/step - loss: 34774.5078 - mae: 131.9352 - mse: 34774.5078 - val_loss: 33939.0039 - val_mae: 130.7360 - val_mse: 33939.0039 - lr: 0.0050\n",
      "Epoch 3/50\n",
      "2440/2440 [==============================] - 278s 114ms/step - loss: 34311.0312 - mae: 131.5463 - mse: 34311.0312 - val_loss: 506123.3750 - val_mae: 589.8459 - val_mse: 506123.3750 - lr: 0.0100\n",
      "Epoch 4/50\n",
      "2439/2440 [============================>.] - ETA: 0s - loss: 41660.1289 - mae: 134.6686 - mse: 41660.1289INFO:tensorflow:Assets written to: models/best_model/assets\n"
     ]
    },
    {
     "name": "stderr",
     "output_type": "stream",
     "text": [
      "INFO:tensorflow:Assets written to: models/best_model/assets\n"
     ]
    },
    {
     "name": "stdout",
     "output_type": "stream",
     "text": [
      "2440/2440 [==============================] - 275s 113ms/step - loss: 41660.0000 - mae: 134.6685 - mse: 41660.0000 - val_loss: 33775.2070 - val_mae: 130.5839 - val_mse: 33775.2070 - lr: 0.0100\n",
      "Epoch 5/50\n",
      "2439/2440 [============================>.] - ETA: 0s - loss: 34312.3633 - mae: 131.4431 - mse: 34312.3633INFO:tensorflow:Assets written to: models/best_model/assets\n"
     ]
    },
    {
     "name": "stderr",
     "output_type": "stream",
     "text": [
      "INFO:tensorflow:Assets written to: models/best_model/assets\n"
     ]
    },
    {
     "name": "stdout",
     "output_type": "stream",
     "text": [
      "2440/2440 [==============================] - 278s 114ms/step - loss: 34312.4062 - mae: 131.4432 - mse: 34312.4062 - val_loss: 33292.3320 - val_mae: 128.7785 - val_mse: 33292.3320 - lr: 0.0100\n",
      "Epoch 6/50\n",
      "2440/2440 [==============================] - 280s 115ms/step - loss: 34497.5273 - mae: 131.6499 - mse: 34497.5273 - val_loss: 33479.0117 - val_mae: 129.2750 - val_mse: 33479.0117 - lr: 0.0100\n",
      "Epoch 7/50\n",
      "2439/2440 [============================>.] - ETA: 0s - loss: 34494.1523 - mae: 131.5016 - mse: 34494.1523INFO:tensorflow:Assets written to: models/best_model/assets\n"
     ]
    },
    {
     "name": "stderr",
     "output_type": "stream",
     "text": [
      "INFO:tensorflow:Assets written to: models/best_model/assets\n"
     ]
    },
    {
     "name": "stdout",
     "output_type": "stream",
     "text": [
      "2440/2440 [==============================] - 647s 265ms/step - loss: 34494.2070 - mae: 131.5016 - mse: 34494.2070 - val_loss: 33236.7188 - val_mae: 128.7648 - val_mse: 33236.7188 - lr: 0.0100\n",
      "Epoch 8/50\n",
      "2440/2440 [==============================] - 281s 115ms/step - loss: 34536.8906 - mae: 131.6980 - mse: 34536.8906 - val_loss: 33679.8477 - val_mae: 130.1663 - val_mse: 33679.8477 - lr: 0.0100\n",
      "Epoch 9/50\n",
      "2440/2440 [==============================] - 281s 115ms/step - loss: 37303.9922 - mae: 134.6121 - mse: 37303.9922 - val_loss: 33396.8828 - val_mae: 128.5021 - val_mse: 33396.8828 - lr: 0.0100\n",
      "Epoch 10/50\n",
      "2440/2440 [==============================] - 280s 115ms/step - loss: 34489.6484 - mae: 131.5621 - mse: 34489.6484 - val_loss: 33471.8867 - val_mae: 129.9685 - val_mse: 33471.8867 - lr: 0.0100\n",
      "523/523 [==============================] - 3s 4ms/step\n",
      "RMSE on test set: 182.3715057373047\n",
      "MAE on test set: 128.78053283691406\n"
     ]
    }
   ],
   "source": [
    "from src.models.train_model import WideDeepModel\n",
    "\n",
    "# Create an instance of FlightFareModel and load data\n",
    "flight_fare_model = WideDeepModel()\n",
    "\n",
    "# Compute embedding sizes\n",
    "flight_fare_model.compute_embedding_sizes()\n",
    "\n",
    "# Build and compile the model\n",
    "flight_fare_model.build_model()\n",
    "flight_fare_model.compile_model()\n",
    "\n",
    "# Train the model\n",
    "history = flight_fare_model.train_model(epochs=50)\n",
    "\n",
    "# Evaluate the model\n",
    "rmse, mae = flight_fare_model.evaluate(batch_size=32768)\n",
    "\n",
    "print(f\"RMSE on test set: {rmse}\")\n",
    "print(f\"MAE on test set: {mae}\")"
   ]
  },
  {
   "cell_type": "code",
   "execution_count": null,
   "metadata": {},
   "outputs": [],
   "source": [
    "# from src.models.train_model import WideDeepModel\n",
    "\n",
    "# # Create an instance of FlightFareModel and load data\n",
    "# flight_fare_model = WideDeepModel()\n",
    "\n",
    "# # Compute embedding sizes\n",
    "# flight_fare_model.compute_embedding_sizes()\n",
    "\n",
    "# # Hyperparameter tuning\n",
    "# flight_fare_model.hyperparameter_tuning(epochs=10)\n",
    "\n",
    "# # Train the model using the best hyperparameters\n",
    "# flight_fare_model.train_model(epochs=10)  # or more epochs\n",
    "\n",
    "# # Evaluate the model\n",
    "# rmse, mae = flight_fare_model.evaluate(flight_fare_model.data)\n",
    "\n",
    "# print(f\"RMSE on test set: {rmse}\")\n",
    "# print(f\"MAE on test set: {mae}\")"
   ]
  },
  {
   "cell_type": "code",
   "execution_count": 3,
   "metadata": {},
   "outputs": [
    {
     "data": {
      "image/png": "[encoded data removed]",
      "text/plain": [
       "<Figure size 1200x400 with 2 Axes>"
      ]
     },
     "metadata": {},
     "output_type": "display_data"
    }
   ],
   "source": [
    "# Plot training history\n",
    "import matplotlib.pyplot as plt\n",
    "\n",
    "# Plot MAE and MSE\n",
    "plt.figure(figsize=(12, 4))\n",
    "\n",
    "plt.subplot(1, 2, 1)\n",
    "plt.plot(history.history['mae'], label='Train MAE')\n",
    "plt.plot(history.history['val_mae'], label='Validation MAE')\n",
    "plt.legend()\n",
    "plt.title('Mean Absolute Error Progression During Training')\n",
    "\n",
    "plt.subplot(1, 2, 2)\n",
    "plt.plot(history.history['mse'], label='Train MSE')\n",
    "plt.plot(history.history['val_mse'], label='Validation MSE')\n",
    "plt.legend()\n",
    "plt.title('Mean Squared Error Progression During Training')\n",
    "\n",
    "plt.tight_layout()\n",
    "plt.show()"
   ]
  }
 ],
 "metadata": {
  "kernelspec": {
   "display_name": "Python 3",
   "language": "python",
   "name": "python3"
  },
  "language_info": {
   "codemirror_mode": {
    "name": "ipython",
    "version": 3
   },
   "file_extension": ".py",
   "mimetype": "text/x-python",
   "name": "python",
   "nbconvert_exporter": "python",
   "pygments_lexer": "ipython3",
   "version": "3.9.18"
  }
 },
 "nbformat": 4,
 "nbformat_minor": 2
}
