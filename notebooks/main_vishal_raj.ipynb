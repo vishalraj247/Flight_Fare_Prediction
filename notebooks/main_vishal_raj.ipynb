{
 "cells": [
  {
   "cell_type": "code",
   "execution_count": 1,
   "metadata": {},
   "outputs": [],
   "source": [
    "import warnings\n",
    "warnings.filterwarnings(\"ignore\", category=UserWarning, module=\"urllib3\")\n",
    "# Setting the working directory\n",
    "import os\n",
    "os.chdir('/Users/vishalraj/GitHub/Flight_Fare_Prediction')"
   ]
  },
  {
   "cell_type": "code",
   "execution_count": 3,
   "metadata": {},
   "outputs": [],
   "source": [
    "from src.data.make_dataset import load_and_save_data_by_folder\n",
    "\n",
    "path = 'data/raw'\n",
    "\n",
    "# Load and save concatenated data by folder\n",
    "load_and_save_data_by_folder(path)"
   ]
  },
  {
   "cell_type": "code",
   "execution_count": 3,
   "metadata": {},
   "outputs": [
    {
     "name": "stdout",
     "output_type": "stream",
     "text": [
      "                              legId  searchDate  flightDate startingAirport  \\\n",
      "0  ee4aaff43c557e1704ebf52b8abf25ad  2022-05-13  2022-06-15             ATL   \n",
      "1  284bffb121ffdafba55f69d6d89a4b7d  2022-05-13  2022-06-15             ATL   \n",
      "2  8efdd07b82644146d45978f61d081f3b  2022-05-13  2022-06-15             ATL   \n",
      "3  e03c8964b4feb4e206636a9c5c0015b2  2022-05-13  2022-06-15             ATL   \n",
      "4  f44658d6761962cecc3eabc0a29d6ef9  2022-05-13  2022-06-15             ATL   \n",
      "\n",
      "  destinationAirport travelDuration  isBasicEconomy  isRefundable  isNonStop  \\\n",
      "0                BOS        PT8H51M           False         False      False   \n",
      "1                BOS       PT12H31M           False         False      False   \n",
      "2                BOS        PT4H35M           False         False      False   \n",
      "3                BOS        PT4H38M           False         False      False   \n",
      "4                BOS        PT6H43M           False         False      False   \n",
      "\n",
      "   totalFare  ...  segmentsArrivalTimeEpochSeconds  \\\n",
      "0     124.78  ...           1655327040||1655351760   \n",
      "1     138.58  ...           1655309340||1655349060   \n",
      "2     148.60  ...           1655312340||1655321940   \n",
      "3     148.60  ...           1655300100||1655309340   \n",
      "4     148.60  ...           1655304660||1655321940   \n",
      "\n",
      "                              segmentsArrivalTimeRaw  \\\n",
      "0  2022-06-15T17:04:00.000-04:00||2022-06-15T23:5...   \n",
      "1  2022-06-15T12:09:00.000-04:00||2022-06-15T23:1...   \n",
      "2  2022-06-15T12:59:00.000-04:00||2022-06-15T15:3...   \n",
      "3  2022-06-15T09:35:00.000-04:00||2022-06-15T12:0...   \n",
      "4  2022-06-15T10:51:00.000-04:00||2022-06-15T15:3...   \n",
      "\n",
      "  segmentsArrivalAirportCode segmentsDepartureAirportCode  \\\n",
      "0                   FLL||BOS                     ATL||FLL   \n",
      "1                   MCO||BOS                     ATL||MCO   \n",
      "2                   DCA||BOS                     ATL||DCA   \n",
      "3                   PHL||BOS                     ATL||PHL   \n",
      "4                   DCA||BOS                     ATL||DCA   \n",
      "\n",
      "                    segmentsAirlineName segmentsAirlineCode  \\\n",
      "0      Spirit Airlines||Spirit Airlines              NK||NK   \n",
      "1      Spirit Airlines||Spirit Airlines              NK||NK   \n",
      "2  American Airlines||American Airlines              AA||AA   \n",
      "3  American Airlines||American Airlines              AA||AA   \n",
      "4  American Airlines||American Airlines              AA||AA   \n",
      "\n",
      "                        segmentsEquipmentDescription  \\\n",
      "0                                                 ||   \n",
      "1  AIRBUS INDUSTRIE A320 SHARKLETS||AIRBUS INDUST...   \n",
      "2                           Embraer 175||Airbus A319   \n",
      "3                           Airbus A320||Airbus A321   \n",
      "4             Canadair Regional Jet 900||Airbus A319   \n",
      "\n",
      "  segmentsDurationInSeconds segmentsDistance segmentsCabinCode  \n",
      "0               7140||11760       None||None      coach||coach  \n",
      "1               5340||11160       None||None      coach||coach  \n",
      "2                6900||5940         541||406      coach||coach  \n",
      "3                7440||5160         667||280      coach||coach  \n",
      "4                6900||5940         541||406      coach||coach  \n",
      "\n",
      "[5 rows x 23 columns]\n"
     ]
    }
   ],
   "source": [
    "import pandas as pd\n",
    "df = pd.read_csv(\"data/interim/ATL/ATL_concatenated.csv\")\n",
    "print(df.head())"
   ]
  },
  {
   "cell_type": "code",
   "execution_count": 3,
   "metadata": {},
   "outputs": [
    {
     "name": "stdout",
     "output_type": "stream",
     "text": [
      "{'legId': dtype('O'), 'searchDate': dtype('O'), 'flightDate': dtype('O'), 'startingAirport': dtype('O'), 'destinationAirport': dtype('O'), 'travelDuration': dtype('O'), 'isBasicEconomy': dtype('bool'), 'isRefundable': dtype('bool'), 'isNonStop': dtype('bool'), 'totalFare': dtype('float64'), 'totalTravelDistance': dtype('float64'), 'segmentsDepartureTimeEpochSeconds': dtype('O'), 'segmentsDepartureTimeRaw': dtype('O'), 'segmentsArrivalTimeEpochSeconds': dtype('O'), 'segmentsArrivalTimeRaw': dtype('O'), 'segmentsArrivalAirportCode': dtype('O'), 'segmentsDepartureAirportCode': dtype('O'), 'segmentsAirlineName': dtype('O'), 'segmentsAirlineCode': dtype('O'), 'segmentsEquipmentDescription': dtype('O'), 'segmentsDurationInSeconds': dtype('O'), 'segmentsDistance': dtype('O'), 'segmentsCabinCode': dtype('O')}\n"
     ]
    }
   ],
   "source": [
    "# Extract dtypes\n",
    "dtype_dict = df.dtypes.to_dict()\n",
    "\n",
    "print(dtype_dict)"
   ]
  },
  {
   "cell_type": "code",
   "execution_count": 5,
   "metadata": {},
   "outputs": [],
   "source": [
    "from src.data.data_preprocessor_dl import DataPreprocessor\n",
    "\n",
    "# Create an instance of the DataPreprocessor class\n",
    "preprocessor = DataPreprocessor()\n",
    "\n",
    "# Merge all datasets\n",
    "preprocessor.merge_all_datasets()\n",
    "\n",
    "# Take a 25% random sample of the merged dataset\n",
    "sampled_data = preprocessor.data.sample(frac=0.25).reset_index(drop=True)\n",
    "\n",
    "# Save the sampled dataset to a CSV file\n",
    "sampled_data.to_csv('sampled_data.csv', index=False)"
   ]
  },
  {
   "cell_type": "code",
   "execution_count": 2,
   "metadata": {},
   "outputs": [
    {
     "name": "stdout",
     "output_type": "stream",
     "text": [
      "Removed 185195132 duplicate rows based on the specified subset of columns\n",
      "Unique values in segmentsCabinCode after split and explode:\n",
      "['coach' 'premium coach' 'first' 'business']\n",
      "No missing values in the processed data.\n",
      "totalTravelDistance                float32\n",
      "segmentsDurationInSeconds          float32\n",
      "segmentsDistance                   float32\n",
      "startingAirport                       int8\n",
      "destinationAirport                    int8\n",
      "segmentsCabinCode                     int8\n",
      "flightDate_year                      int16\n",
      "flightDate_month                      int8\n",
      "flightDate_day                        int8\n",
      "flightDate_weekday                    int8\n",
      "flightDate_is_weekend               object\n",
      "segmentsDepartureTimeRaw_hour         int8\n",
      "segmentsDepartureTimeRaw_minute       int8\n",
      "modeFare                           float32\n",
      "dtype: object\n",
      "Stored 'processed_data' (DataFrame)\n",
      "Stored 'preprocessor' (ColumnTransformer)\n",
      "Stored 'avg_features' (DataFrame)\n",
      "Checking unique values for 'startingAirport' after preprocessing:\n",
      "[ 1  2  3  4  5  6  7  8  9 10 11 12 13 14 15 16]\n",
      "\n",
      "Category Mappings:\n",
      "{'startingAirport': {'OAK': 1, 'DEN': 2, 'LGA': 3, 'LAX': 4, 'ATL': 5, 'CLT': 6, 'PHL': 7, 'DTW': 8, 'IAD': 9, 'JFK': 10, 'DFW': 11, 'BOS': 12, 'EWR': 13, 'SFO': 14, 'ORD': 15, 'MIA': 16, 'unknown': 0}, 'destinationAirport': {'ATL': 1, 'BOS': 2, 'CLT': 3, 'DEN': 4, 'DFW': 5, 'DTW': 6, 'EWR': 7, 'IAD': 8, 'JFK': 9, 'LAX': 10, 'LGA': 11, 'MIA': 12, 'ORD': 13, 'PHL': 14, 'SFO': 15, 'OAK': 16, 'unknown': 0}, 'segmentsCabinCode': {'coach': 1, 'premium coach': 2, 'first': 3, 'business': 4, 'unknown': 0}}\n"
     ]
    }
   ],
   "source": [
    "from src.data.data_preprocessor_dl import DataPreprocessor\n",
    "\n",
    "# Create an instance of the DataPreprocessor class\n",
    "data_preprocessor = DataPreprocessor()\n",
    "\n",
    "# Process all folders and obtain processed data, the preprocessor object, and average features directly\n",
    "processed_data, preprocessor, avg_features = data_preprocessor.merge_and_preprocess_all_datasets()\n",
    "\n",
    "# Store processed_data in a variable to use in the next cell\n",
    "%store processed_data\n",
    "%store preprocessor\n",
    "%store avg_features\n",
    "\n",
    "print(\"Checking unique values for 'startingAirport' after preprocessing:\")\n",
    "print(processed_data['startingAirport'].unique())\n",
    "\n",
    "print(\"\\nCategory Mappings:\")\n",
    "print(data_preprocessor.category_mappings)"
   ]
  },
  {
   "cell_type": "code",
   "execution_count": 4,
   "metadata": {},
   "outputs": [
    {
     "name": "stdout",
     "output_type": "stream",
     "text": [
      "    totalTravelDistance  segmentsDurationInSeconds  segmentsDistance  \\\n",
      "0              1.040454                  -0.078716         -0.118611   \n",
      "1              1.040454                  -0.078716          1.823883   \n",
      "2              1.040454                   2.080591         -0.118611   \n",
      "3              1.040454                   2.080591          1.823883   \n",
      "4              1.040454                  -0.078716         -0.118611   \n",
      "5              1.040454                  -0.078716          1.823883   \n",
      "6              1.040454                   2.080591         -0.118611   \n",
      "7              1.040454                   2.080591          1.823883   \n",
      "8             -0.882614                   0.457672          0.443906   \n",
      "9             -1.331850                  -0.835162         -1.067653   \n",
      "10            -1.331850                  -0.835162         -0.475530   \n",
      "11            -1.331850                  -0.202498         -1.067653   \n",
      "12            -1.331850                  -0.202498         -0.475530   \n",
      "13            -1.331850                  -0.835162         -1.067653   \n",
      "14            -1.331850                  -0.835162         -0.475530   \n",
      "15            -1.331850                  -0.202498         -1.067653   \n",
      "16            -1.331850                  -0.202498         -0.475530   \n",
      "17             0.456687                   0.718989          0.443906   \n",
      "18             0.456687                   0.718989          0.461999   \n",
      "19             0.456687                   0.636468          0.443906   \n",
      "\n",
      "    startingAirport  destinationAirport  segmentsCabinCode  flightDate_year  \\\n",
      "0                 1                   2                  2             2022   \n",
      "1                 1                   2                  2             2022   \n",
      "2                 1                   2                  2             2022   \n",
      "3                 1                   2                  2             2022   \n",
      "4                 1                   2                  2             2022   \n",
      "5                 1                   2                  2             2022   \n",
      "6                 1                   2                  2             2022   \n",
      "7                 1                   2                  2             2022   \n",
      "8                 2                   3                  2             2022   \n",
      "9                 3                   4                  2             2022   \n",
      "10                3                   4                  2             2022   \n",
      "11                3                   4                  2             2022   \n",
      "12                3                   4                  2             2022   \n",
      "13                3                   4                  2             2022   \n",
      "14                3                   4                  2             2022   \n",
      "15                3                   4                  2             2022   \n",
      "16                3                   4                  2             2022   \n",
      "17                4                   1                  2             2022   \n",
      "18                4                   1                  2             2022   \n",
      "19                4                   1                  2             2022   \n",
      "\n",
      "    flightDate_month  flightDate_day  flightDate_weekday  \\\n",
      "0                  5               1                   6   \n",
      "1                  5               1                   6   \n",
      "2                  5               1                   6   \n",
      "3                  5               1                   6   \n",
      "4                  5               1                   6   \n",
      "5                  5               1                   6   \n",
      "6                  5               1                   6   \n",
      "7                  5               1                   6   \n",
      "8                  6               5                   6   \n",
      "9                  6              14                   1   \n",
      "10                 6              14                   1   \n",
      "11                 6              14                   1   \n",
      "12                 6              14                   1   \n",
      "13                 6              14                   1   \n",
      "14                 6              14                   1   \n",
      "15                 6              14                   1   \n",
      "16                 6              14                   1   \n",
      "17                 5              28                   5   \n",
      "18                 5              28                   5   \n",
      "19                 5              28                   5   \n",
      "\n",
      "    flightDate_is_weekend  segmentsDepartureTimeRaw_hour  \\\n",
      "0                    True                             19   \n",
      "1                    True                             19   \n",
      "2                    True                             19   \n",
      "3                    True                             19   \n",
      "4                    True                             22   \n",
      "5                    True                             22   \n",
      "6                    True                             22   \n",
      "7                    True                             22   \n",
      "8                    True                             13   \n",
      "9                   False                             16   \n",
      "10                  False                             16   \n",
      "11                  False                             16   \n",
      "12                  False                             16   \n",
      "13                  False                             18   \n",
      "14                  False                             18   \n",
      "15                  False                             18   \n",
      "16                  False                             18   \n",
      "17                   True                             20   \n",
      "18                   True                             20   \n",
      "19                   True                             20   \n",
      "\n",
      "    segmentsDepartureTimeRaw_minute  modeFare  \n",
      "0                                30    780.60  \n",
      "1                                30    780.60  \n",
      "2                                30    780.60  \n",
      "3                                30    780.60  \n",
      "4                                40    780.60  \n",
      "5                                40    780.60  \n",
      "6                                40    780.60  \n",
      "7                                40    780.60  \n",
      "8                                27    340.61  \n",
      "9                                 5    157.60  \n",
      "10                                5    157.60  \n",
      "11                                5    157.60  \n",
      "12                                5    157.60  \n",
      "13                               19    157.60  \n",
      "14                               19    157.60  \n",
      "15                               19    157.60  \n",
      "16                               19    157.60  \n",
      "17                                0    335.20  \n",
      "18                                0    335.20  \n",
      "19                                0    335.20  \n",
      "920360\n"
     ]
    }
   ],
   "source": [
    "import pandas as pd\n",
    "df1 = pd.read_csv(\"data/processed/merged_data_processed_dl.csv\")\n",
    "print(df1.head(20))\n",
    "print(len(df1))"
   ]
  },
  {
   "cell_type": "code",
   "execution_count": 5,
   "metadata": {},
   "outputs": [
    {
     "name": "stdout",
     "output_type": "stream",
     "text": [
      "{'totalTravelDistance': dtype('float64'), 'segmentsDurationInSeconds': dtype('float64'), 'segmentsDistance': dtype('float64'), 'startingAirport': dtype('int64'), 'destinationAirport': dtype('int64'), 'segmentsCabinCode': dtype('int64'), 'flightDate_year': dtype('int64'), 'flightDate_month': dtype('int64'), 'flightDate_day': dtype('int64'), 'flightDate_weekday': dtype('int64'), 'flightDate_is_weekend': dtype('bool'), 'segmentsDepartureTimeRaw_hour': dtype('int64'), 'segmentsDepartureTimeRaw_minute': dtype('int64'), 'modeFare': dtype('float64')}\n"
     ]
    }
   ],
   "source": [
    "# Extract dtypes\n",
    "dtype_dict = df1.dtypes.to_dict()\n",
    "\n",
    "print(dtype_dict)"
   ]
  },
  {
   "cell_type": "code",
   "execution_count": 7,
   "metadata": {},
   "outputs": [
    {
     "name": "stdout",
     "output_type": "stream",
     "text": [
      "[2 7 8 9]\n"
     ]
    }
   ],
   "source": [
    "unique_values = df1['segmentsCabinCode'].unique()\n",
    "print(unique_values)"
   ]
  },
  {
   "cell_type": "code",
   "execution_count": 3,
   "metadata": {},
   "outputs": [
    {
     "name": "stderr",
     "output_type": "stream",
     "text": [
      "WARNING:absl:At this time, the v2.11+ optimizer `tf.keras.optimizers.Adam` runs slowly on M1/M2 Macs, please use the legacy Keras optimizer instead, located at `tf.keras.optimizers.legacy.Adam`.\n"
     ]
    },
    {
     "name": "stdout",
     "output_type": "stream",
     "text": [
      "Epoch 1/50\n",
      "888/889 [============================>.] - ETA: 0s - loss: 37945.6875 - mae: 131.5190 - mse: 37945.6875INFO:tensorflow:Assets written to: models/best_model-vishal_raj/assets\n"
     ]
    },
    {
     "name": "stderr",
     "output_type": "stream",
     "text": [
      "INFO:tensorflow:Assets written to: models/best_model-vishal_raj/assets\n"
     ]
    },
    {
     "name": "stdout",
     "output_type": "stream",
     "text": [
      "889/889 [==============================] - 38s 41ms/step - loss: 37945.0977 - mae: 131.5177 - mse: 37945.0977 - val_loss: 33316.6328 - val_mae: 122.5292 - val_mse: 33316.6328 - lr: 0.0050\n",
      "Epoch 2/50\n",
      "889/889 [==============================] - ETA: 0s - loss: 32203.5137 - mae: 121.6753 - mse: 32203.5137INFO:tensorflow:Assets written to: models/best_model-vishal_raj/assets\n"
     ]
    },
    {
     "name": "stderr",
     "output_type": "stream",
     "text": [
      "INFO:tensorflow:Assets written to: models/best_model-vishal_raj/assets\n"
     ]
    },
    {
     "name": "stdout",
     "output_type": "stream",
     "text": [
      "889/889 [==============================] - 36s 41ms/step - loss: 32203.5137 - mae: 121.6753 - mse: 32203.5137 - val_loss: 30766.1680 - val_mae: 119.9473 - val_mse: 30766.1680 - lr: 0.0050\n",
      "Epoch 3/50\n",
      "889/889 [==============================] - ETA: 0s - loss: 30353.6484 - mae: 119.6243 - mse: 30353.6484INFO:tensorflow:Assets written to: models/best_model-vishal_raj/assets\n"
     ]
    },
    {
     "name": "stderr",
     "output_type": "stream",
     "text": [
      "INFO:tensorflow:Assets written to: models/best_model-vishal_raj/assets\n"
     ]
    },
    {
     "name": "stdout",
     "output_type": "stream",
     "text": [
      "889/889 [==============================] - 36s 40ms/step - loss: 30353.6484 - mae: 119.6243 - mse: 30353.6484 - val_loss: 29621.5410 - val_mae: 119.1901 - val_mse: 29621.5410 - lr: 0.0100\n",
      "Epoch 4/50\n",
      "888/889 [============================>.] - ETA: 0s - loss: 29511.6934 - mae: 118.0566 - mse: 29511.6934INFO:tensorflow:Assets written to: models/best_model-vishal_raj/assets\n"
     ]
    },
    {
     "name": "stderr",
     "output_type": "stream",
     "text": [
      "INFO:tensorflow:Assets written to: models/best_model-vishal_raj/assets\n"
     ]
    },
    {
     "name": "stdout",
     "output_type": "stream",
     "text": [
      "889/889 [==============================] - 34s 38ms/step - loss: 29511.5625 - mae: 118.0565 - mse: 29511.5625 - val_loss: 29002.9121 - val_mae: 117.4040 - val_mse: 29002.9121 - lr: 0.0100\n",
      "Epoch 5/50\n",
      "889/889 [==============================] - ETA: 0s - loss: 29127.4043 - mae: 116.9394 - mse: 29127.4043INFO:tensorflow:Assets written to: models/best_model-vishal_raj/assets\n"
     ]
    },
    {
     "name": "stderr",
     "output_type": "stream",
     "text": [
      "INFO:tensorflow:Assets written to: models/best_model-vishal_raj/assets\n"
     ]
    },
    {
     "name": "stdout",
     "output_type": "stream",
     "text": [
      "889/889 [==============================] - 36s 40ms/step - loss: 29127.4043 - mae: 116.9394 - mse: 29127.4043 - val_loss: 28685.9824 - val_mae: 114.8865 - val_mse: 28685.9824 - lr: 0.0100\n",
      "Epoch 6/50\n",
      "888/889 [============================>.] - ETA: 0s - loss: 28814.3711 - mae: 115.9801 - mse: 28814.3711INFO:tensorflow:Assets written to: models/best_model-vishal_raj/assets\n"
     ]
    },
    {
     "name": "stderr",
     "output_type": "stream",
     "text": [
      "INFO:tensorflow:Assets written to: models/best_model-vishal_raj/assets\n"
     ]
    },
    {
     "name": "stdout",
     "output_type": "stream",
     "text": [
      "889/889 [==============================] - 36s 41ms/step - loss: 28814.2227 - mae: 115.9798 - mse: 28814.2227 - val_loss: 28344.8242 - val_mae: 114.9597 - val_mse: 28344.8242 - lr: 0.0100\n",
      "Epoch 7/50\n",
      "887/889 [============================>.] - ETA: 0s - loss: 28517.7129 - mae: 115.0786 - mse: 28517.7129INFO:tensorflow:Assets written to: models/best_model-vishal_raj/assets\n"
     ]
    },
    {
     "name": "stderr",
     "output_type": "stream",
     "text": [
      "INFO:tensorflow:Assets written to: models/best_model-vishal_raj/assets\n"
     ]
    },
    {
     "name": "stdout",
     "output_type": "stream",
     "text": [
      "889/889 [==============================] - 34s 39ms/step - loss: 28518.5000 - mae: 115.0786 - mse: 28518.5000 - val_loss: 28066.8789 - val_mae: 114.0384 - val_mse: 28066.8789 - lr: 0.0100\n",
      "Epoch 8/50\n",
      "889/889 [==============================] - ETA: 0s - loss: 28309.2070 - mae: 114.4163 - mse: 28309.2070INFO:tensorflow:Assets written to: models/best_model-vishal_raj/assets\n"
     ]
    },
    {
     "name": "stderr",
     "output_type": "stream",
     "text": [
      "INFO:tensorflow:Assets written to: models/best_model-vishal_raj/assets\n"
     ]
    },
    {
     "name": "stdout",
     "output_type": "stream",
     "text": [
      "889/889 [==============================] - 34s 39ms/step - loss: 28309.2070 - mae: 114.4163 - mse: 28309.2070 - val_loss: 27952.6426 - val_mae: 114.4627 - val_mse: 27952.6426 - lr: 0.0100\n",
      "Epoch 9/50\n",
      "887/889 [============================>.] - ETA: 0s - loss: 28146.0469 - mae: 113.8884 - mse: 28146.0469INFO:tensorflow:Assets written to: models/best_model-vishal_raj/assets\n"
     ]
    },
    {
     "name": "stderr",
     "output_type": "stream",
     "text": [
      "INFO:tensorflow:Assets written to: models/best_model-vishal_raj/assets\n"
     ]
    },
    {
     "name": "stdout",
     "output_type": "stream",
     "text": [
      "889/889 [==============================] - 34s 39ms/step - loss: 28147.9590 - mae: 113.8884 - mse: 28147.9590 - val_loss: 27749.1816 - val_mae: 111.9527 - val_mse: 27749.1816 - lr: 0.0100\n",
      "Epoch 10/50\n",
      "887/889 [============================>.] - ETA: 0s - loss: 28022.7285 - mae: 113.4847 - mse: 28022.7285INFO:tensorflow:Assets written to: models/best_model-vishal_raj/assets\n"
     ]
    },
    {
     "name": "stderr",
     "output_type": "stream",
     "text": [
      "INFO:tensorflow:Assets written to: models/best_model-vishal_raj/assets\n"
     ]
    },
    {
     "name": "stdout",
     "output_type": "stream",
     "text": [
      "889/889 [==============================] - 34s 38ms/step - loss: 28021.8359 - mae: 113.4835 - mse: 28021.8359 - val_loss: 27630.3613 - val_mae: 111.8537 - val_mse: 27630.3613 - lr: 0.0100\n",
      "Epoch 11/50\n",
      "887/889 [============================>.] - ETA: 0s - loss: 27927.8457 - mae: 113.1711 - mse: 27927.8457INFO:tensorflow:Assets written to: models/best_model-vishal_raj/assets\n"
     ]
    },
    {
     "name": "stderr",
     "output_type": "stream",
     "text": [
      "INFO:tensorflow:Assets written to: models/best_model-vishal_raj/assets\n"
     ]
    },
    {
     "name": "stdout",
     "output_type": "stream",
     "text": [
      "889/889 [==============================] - 34s 38ms/step - loss: 27927.4961 - mae: 113.1712 - mse: 27927.4961 - val_loss: 27543.2578 - val_mae: 112.1029 - val_mse: 27543.2578 - lr: 0.0100\n",
      "Epoch 12/50\n",
      "887/889 [============================>.] - ETA: 0s - loss: 27851.2285 - mae: 112.9190 - mse: 27851.2285INFO:tensorflow:Assets written to: models/best_model-vishal_raj/assets\n"
     ]
    },
    {
     "name": "stderr",
     "output_type": "stream",
     "text": [
      "INFO:tensorflow:Assets written to: models/best_model-vishal_raj/assets\n"
     ]
    },
    {
     "name": "stdout",
     "output_type": "stream",
     "text": [
      "889/889 [==============================] - 34s 39ms/step - loss: 27851.5234 - mae: 112.9191 - mse: 27851.5234 - val_loss: 27494.9043 - val_mae: 111.4198 - val_mse: 27494.9043 - lr: 0.0100\n",
      "Epoch 13/50\n",
      "888/889 [============================>.] - ETA: 0s - loss: 27780.0312 - mae: 112.6836 - mse: 27780.0312INFO:tensorflow:Assets written to: models/best_model-vishal_raj/assets\n"
     ]
    },
    {
     "name": "stderr",
     "output_type": "stream",
     "text": [
      "INFO:tensorflow:Assets written to: models/best_model-vishal_raj/assets\n"
     ]
    },
    {
     "name": "stdout",
     "output_type": "stream",
     "text": [
      "889/889 [==============================] - 34s 39ms/step - loss: 27779.9414 - mae: 112.6836 - mse: 27779.9414 - val_loss: 27343.5215 - val_mae: 111.3832 - val_mse: 27343.5215 - lr: 0.0100\n",
      "Epoch 14/50\n",
      "889/889 [==============================] - ETA: 0s - loss: 27715.5469 - mae: 112.4632 - mse: 27715.5469INFO:tensorflow:Assets written to: models/best_model-vishal_raj/assets\n"
     ]
    },
    {
     "name": "stderr",
     "output_type": "stream",
     "text": [
      "INFO:tensorflow:Assets written to: models/best_model-vishal_raj/assets\n"
     ]
    },
    {
     "name": "stdout",
     "output_type": "stream",
     "text": [
      "889/889 [==============================] - 34s 39ms/step - loss: 27715.5469 - mae: 112.4632 - mse: 27715.5469 - val_loss: 27279.3008 - val_mae: 111.5178 - val_mse: 27279.3008 - lr: 0.0100\n",
      "Epoch 15/50\n",
      "887/889 [============================>.] - ETA: 0s - loss: 27675.5645 - mae: 112.3212 - mse: 27675.5645INFO:tensorflow:Assets written to: models/best_model-vishal_raj/assets\n"
     ]
    },
    {
     "name": "stderr",
     "output_type": "stream",
     "text": [
      "INFO:tensorflow:Assets written to: models/best_model-vishal_raj/assets\n"
     ]
    },
    {
     "name": "stdout",
     "output_type": "stream",
     "text": [
      "889/889 [==============================] - 34s 39ms/step - loss: 27674.7676 - mae: 112.3202 - mse: 27674.7676 - val_loss: 27239.9668 - val_mae: 111.1547 - val_mse: 27239.9668 - lr: 0.0100\n",
      "Epoch 16/50\n",
      "889/889 [==============================] - ETA: 0s - loss: 27639.0215 - mae: 112.1991 - mse: 27639.0215INFO:tensorflow:Assets written to: models/best_model-vishal_raj/assets\n"
     ]
    },
    {
     "name": "stderr",
     "output_type": "stream",
     "text": [
      "INFO:tensorflow:Assets written to: models/best_model-vishal_raj/assets\n"
     ]
    },
    {
     "name": "stdout",
     "output_type": "stream",
     "text": [
      "889/889 [==============================] - 34s 39ms/step - loss: 27639.0215 - mae: 112.1991 - mse: 27639.0215 - val_loss: 27208.5293 - val_mae: 110.9020 - val_mse: 27208.5293 - lr: 0.0100\n",
      "Epoch 17/50\n",
      "889/889 [==============================] - 34s 38ms/step - loss: 27607.2656 - mae: 112.0932 - mse: 27607.2656 - val_loss: 27224.9629 - val_mae: 110.2420 - val_mse: 27224.9629 - lr: 0.0100\n",
      "Epoch 18/50\n",
      "889/889 [==============================] - ETA: 0s - loss: 27576.7754 - mae: 112.0033 - mse: 27576.7754INFO:tensorflow:Assets written to: models/best_model-vishal_raj/assets\n"
     ]
    },
    {
     "name": "stderr",
     "output_type": "stream",
     "text": [
      "INFO:tensorflow:Assets written to: models/best_model-vishal_raj/assets\n"
     ]
    },
    {
     "name": "stdout",
     "output_type": "stream",
     "text": [
      "889/889 [==============================] - 34s 39ms/step - loss: 27576.7754 - mae: 112.0033 - mse: 27576.7754 - val_loss: 27160.2500 - val_mae: 110.7526 - val_mse: 27160.2500 - lr: 0.0100\n",
      "Epoch 19/50\n",
      "887/889 [============================>.] - ETA: 0s - loss: 27557.3555 - mae: 111.9490 - mse: 27557.3555INFO:tensorflow:Assets written to: models/best_model-vishal_raj/assets\n"
     ]
    },
    {
     "name": "stderr",
     "output_type": "stream",
     "text": [
      "INFO:tensorflow:Assets written to: models/best_model-vishal_raj/assets\n"
     ]
    },
    {
     "name": "stdout",
     "output_type": "stream",
     "text": [
      "889/889 [==============================] - 34s 39ms/step - loss: 27557.1562 - mae: 111.9496 - mse: 27557.1562 - val_loss: 27112.6387 - val_mae: 110.1448 - val_mse: 27112.6387 - lr: 0.0100\n",
      "Epoch 20/50\n",
      "889/889 [==============================] - 34s 38ms/step - loss: 27525.8730 - mae: 111.8701 - mse: 27525.8730 - val_loss: 27125.1035 - val_mae: 109.8427 - val_mse: 27125.1035 - lr: 0.0100\n",
      "Epoch 21/50\n",
      "889/889 [==============================] - ETA: 0s - loss: 27513.5977 - mae: 111.8238 - mse: 27513.5977INFO:tensorflow:Assets written to: models/best_model-vishal_raj/assets\n"
     ]
    },
    {
     "name": "stderr",
     "output_type": "stream",
     "text": [
      "INFO:tensorflow:Assets written to: models/best_model-vishal_raj/assets\n"
     ]
    },
    {
     "name": "stdout",
     "output_type": "stream",
     "text": [
      "889/889 [==============================] - 35s 39ms/step - loss: 27513.5977 - mae: 111.8238 - mse: 27513.5977 - val_loss: 27096.5000 - val_mae: 111.2261 - val_mse: 27096.5000 - lr: 0.0100\n",
      "Epoch 22/50\n",
      "889/889 [==============================] - ETA: 0s - loss: 27495.1953 - mae: 111.7761 - mse: 27495.1953INFO:tensorflow:Assets written to: models/best_model-vishal_raj/assets\n"
     ]
    },
    {
     "name": "stderr",
     "output_type": "stream",
     "text": [
      "INFO:tensorflow:Assets written to: models/best_model-vishal_raj/assets\n"
     ]
    },
    {
     "name": "stdout",
     "output_type": "stream",
     "text": [
      "889/889 [==============================] - 34s 38ms/step - loss: 27495.1953 - mae: 111.7761 - mse: 27495.1953 - val_loss: 27022.0703 - val_mae: 110.2079 - val_mse: 27022.0703 - lr: 0.0100\n",
      "Epoch 23/50\n",
      "889/889 [==============================] - 34s 38ms/step - loss: 27476.6992 - mae: 111.7177 - mse: 27476.6992 - val_loss: 27132.5078 - val_mae: 112.2569 - val_mse: 27132.5078 - lr: 0.0100\n",
      "Epoch 24/50\n",
      "887/889 [============================>.] - ETA: 0s - loss: 27461.2832 - mae: 111.6806 - mse: 27461.2832INFO:tensorflow:Assets written to: models/best_model-vishal_raj/assets\n"
     ]
    },
    {
     "name": "stderr",
     "output_type": "stream",
     "text": [
      "INFO:tensorflow:Assets written to: models/best_model-vishal_raj/assets\n"
     ]
    },
    {
     "name": "stdout",
     "output_type": "stream",
     "text": [
      "889/889 [==============================] - 34s 38ms/step - loss: 27463.6562 - mae: 111.6812 - mse: 27463.6562 - val_loss: 26999.1191 - val_mae: 110.4267 - val_mse: 26999.1191 - lr: 0.0100\n",
      "Epoch 25/50\n",
      "889/889 [==============================] - 34s 38ms/step - loss: 27448.6973 - mae: 111.6463 - mse: 27448.6973 - val_loss: 27047.9844 - val_mae: 111.7573 - val_mse: 27047.9844 - lr: 0.0100\n",
      "Epoch 26/50\n",
      "889/889 [==============================] - 34s 38ms/step - loss: 27438.4766 - mae: 111.6142 - mse: 27438.4766 - val_loss: 27052.5820 - val_mae: 109.7177 - val_mse: 27052.5820 - lr: 0.0100\n",
      "Epoch 27/50\n",
      "889/889 [==============================] - ETA: 0s - loss: 27429.3223 - mae: 111.5902 - mse: 27429.3223INFO:tensorflow:Assets written to: models/best_model-vishal_raj/assets\n"
     ]
    },
    {
     "name": "stderr",
     "output_type": "stream",
     "text": [
      "INFO:tensorflow:Assets written to: models/best_model-vishal_raj/assets\n"
     ]
    },
    {
     "name": "stdout",
     "output_type": "stream",
     "text": [
      "889/889 [==============================] - 34s 39ms/step - loss: 27429.3223 - mae: 111.5902 - mse: 27429.3223 - val_loss: 26951.8633 - val_mae: 110.5981 - val_mse: 26951.8633 - lr: 0.0100\n",
      "Epoch 28/50\n",
      "889/889 [==============================] - 34s 38ms/step - loss: 27411.7324 - mae: 111.5486 - mse: 27411.7324 - val_loss: 26972.6211 - val_mae: 109.9885 - val_mse: 26972.6211 - lr: 0.0100\n",
      "Epoch 29/50\n",
      "889/889 [==============================] - 34s 38ms/step - loss: 27401.7188 - mae: 111.5266 - mse: 27401.7188 - val_loss: 26999.2051 - val_mae: 109.2139 - val_mse: 26999.2051 - lr: 0.0100\n",
      "Epoch 30/50\n",
      "889/889 [==============================] - 34s 38ms/step - loss: 27392.9082 - mae: 111.4931 - mse: 27392.9082 - val_loss: 26975.3711 - val_mae: 111.2032 - val_mse: 26975.3711 - lr: 0.0100\n",
      "191/191 [==============================] - 1s 7ms/step\n",
      "RMSE on test set: 164.08128356933594\n",
      "MAE on test set: 110.55744171142578\n"
     ]
    }
   ],
   "source": [
    "%store -r processed_data\n",
    "%store -r preprocessor\n",
    "%store -r avg_features\n",
    "\n",
    "from src.models.train_model_vishal_raj import WideDeepModel\n",
    "\n",
    "# Create an instance of WideDeepModel using processed data\n",
    "flight_fare_model = WideDeepModel(processed_data, preprocessor, avg_features)\n",
    "\n",
    "# Compute embedding sizes\n",
    "flight_fare_model.compute_embedding_sizes()\n",
    "\n",
    "# Build and compile the model\n",
    "flight_fare_model.build_model()\n",
    "flight_fare_model.compile_model()\n",
    "\n",
    "# Train the model\n",
    "history = flight_fare_model.train_model(epochs=50)\n",
    "\n",
    "# Evaluate the model\n",
    "rmse, mae = flight_fare_model.evaluate(batch_size=32768)\n",
    "\n",
    "print(f\"RMSE on test set: {rmse}\")\n",
    "print(f\"MAE on test set: {mae}\")"
   ]
  },
  {
   "cell_type": "code",
   "execution_count": null,
   "metadata": {},
   "outputs": [],
   "source": [
    "# from src.models.train_model import WideDeepModel\n",
    "\n",
    "# # Create an instance of FlightFareModel and load data\n",
    "# flight_fare_model = WideDeepModel()\n",
    "\n",
    "# # Compute embedding sizes\n",
    "# flight_fare_model.compute_embedding_sizes()\n",
    "\n",
    "# # Hyperparameter tuning\n",
    "# flight_fare_model.hyperparameter_tuning(epochs=10)\n",
    "\n",
    "# # Train the model using the best hyperparameters\n",
    "# flight_fare_model.train_model(epochs=10)  # or more epochs\n",
    "\n",
    "# # Evaluate the model\n",
    "# rmse, mae = flight_fare_model.evaluate(flight_fare_model.data)\n",
    "\n",
    "# print(f\"RMSE on test set: {rmse}\")\n",
    "# print(f\"MAE on test set: {mae}\")"
   ]
  },
  {
   "cell_type": "code",
   "execution_count": 4,
   "metadata": {},
   "outputs": [
    {
     "data": {
      "image/png": "[encoded data removed]",
      "text/plain": [
       "<Figure size 1200x400 with 2 Axes>"
      ]
     },
     "metadata": {},
     "output_type": "display_data"
    }
   ],
   "source": [
    "# Plot training history\n",
    "import matplotlib.pyplot as plt\n",
    "\n",
    "# Plot MAE and MSE\n",
    "plt.figure(figsize=(12, 4))\n",
    "\n",
    "plt.subplot(1, 2, 1)\n",
    "plt.plot(history.history['mae'], label='Train MAE')\n",
    "plt.plot(history.history['val_mae'], label='Validation MAE')\n",
    "plt.legend()\n",
    "plt.title('Mean Absolute Error Progression During Training')\n",
    "\n",
    "plt.subplot(1, 2, 2)\n",
    "plt.plot(history.history['mse'], label='Train MSE')\n",
    "plt.plot(history.history['val_mse'], label='Validation MSE')\n",
    "plt.legend()\n",
    "plt.title('Mean Squared Error Progression During Training')\n",
    "\n",
    "plt.tight_layout()\n",
    "plt.show()"
   ]
  }
 ],
 "metadata": {
  "kernelspec": {
   "display_name": "Python 3",
   "language": "python",
   "name": "python3"
  },
  "language_info": {
   "codemirror_mode": {
    "name": "ipython",
    "version": 3
   },
   "file_extension": ".py",
   "mimetype": "text/x-python",
   "name": "python",
   "nbconvert_exporter": "python",
   "pygments_lexer": "ipython3",
   "version": "3.9.18"
  }
 },
 "nbformat": 4,
 "nbformat_minor": 2
}
