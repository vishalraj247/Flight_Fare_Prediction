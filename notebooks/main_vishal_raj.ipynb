{
 "cells": [
  {
   "cell_type": "code",
   "execution_count": 1,
   "metadata": {},
   "outputs": [],
   "source": [
    "import warnings\n",
    "warnings.filterwarnings(\"ignore\", category=UserWarning, module=\"urllib3\")\n",
    "# Setting the working directory\n",
    "import os\n",
    "os.chdir('/Users/vishalraj/GitHub/Flight_Fare_Prediction')"
   ]
  },
  {
   "cell_type": "code",
   "execution_count": 3,
   "metadata": {},
   "outputs": [],
   "source": [
    "from src.data.make_dataset import load_and_save_data_by_folder\n",
    "\n",
    "path = 'data/raw'\n",
    "\n",
    "# Load and save concatenated data by folder\n",
    "load_and_save_data_by_folder(path)"
   ]
  },
  {
   "cell_type": "code",
   "execution_count": 3,
   "metadata": {},
   "outputs": [
    {
     "name": "stdout",
     "output_type": "stream",
     "text": [
      "                              legId  searchDate  flightDate startingAirport  \\\n",
      "0  ee4aaff43c557e1704ebf52b8abf25ad  2022-05-13  2022-06-15             ATL   \n",
      "1  284bffb121ffdafba55f69d6d89a4b7d  2022-05-13  2022-06-15             ATL   \n",
      "2  8efdd07b82644146d45978f61d081f3b  2022-05-13  2022-06-15             ATL   \n",
      "3  e03c8964b4feb4e206636a9c5c0015b2  2022-05-13  2022-06-15             ATL   \n",
      "4  f44658d6761962cecc3eabc0a29d6ef9  2022-05-13  2022-06-15             ATL   \n",
      "\n",
      "  destinationAirport travelDuration  isBasicEconomy  isRefundable  isNonStop  \\\n",
      "0                BOS        PT8H51M           False         False      False   \n",
      "1                BOS       PT12H31M           False         False      False   \n",
      "2                BOS        PT4H35M           False         False      False   \n",
      "3                BOS        PT4H38M           False         False      False   \n",
      "4                BOS        PT6H43M           False         False      False   \n",
      "\n",
      "   totalFare  ...  segmentsArrivalTimeEpochSeconds  \\\n",
      "0     124.78  ...           1655327040||1655351760   \n",
      "1     138.58  ...           1655309340||1655349060   \n",
      "2     148.60  ...           1655312340||1655321940   \n",
      "3     148.60  ...           1655300100||1655309340   \n",
      "4     148.60  ...           1655304660||1655321940   \n",
      "\n",
      "                              segmentsArrivalTimeRaw  \\\n",
      "0  2022-06-15T17:04:00.000-04:00||2022-06-15T23:5...   \n",
      "1  2022-06-15T12:09:00.000-04:00||2022-06-15T23:1...   \n",
      "2  2022-06-15T12:59:00.000-04:00||2022-06-15T15:3...   \n",
      "3  2022-06-15T09:35:00.000-04:00||2022-06-15T12:0...   \n",
      "4  2022-06-15T10:51:00.000-04:00||2022-06-15T15:3...   \n",
      "\n",
      "  segmentsArrivalAirportCode segmentsDepartureAirportCode  \\\n",
      "0                   FLL||BOS                     ATL||FLL   \n",
      "1                   MCO||BOS                     ATL||MCO   \n",
      "2                   DCA||BOS                     ATL||DCA   \n",
      "3                   PHL||BOS                     ATL||PHL   \n",
      "4                   DCA||BOS                     ATL||DCA   \n",
      "\n",
      "                    segmentsAirlineName segmentsAirlineCode  \\\n",
      "0      Spirit Airlines||Spirit Airlines              NK||NK   \n",
      "1      Spirit Airlines||Spirit Airlines              NK||NK   \n",
      "2  American Airlines||American Airlines              AA||AA   \n",
      "3  American Airlines||American Airlines              AA||AA   \n",
      "4  American Airlines||American Airlines              AA||AA   \n",
      "\n",
      "                        segmentsEquipmentDescription  \\\n",
      "0                                                 ||   \n",
      "1  AIRBUS INDUSTRIE A320 SHARKLETS||AIRBUS INDUST...   \n",
      "2                           Embraer 175||Airbus A319   \n",
      "3                           Airbus A320||Airbus A321   \n",
      "4             Canadair Regional Jet 900||Airbus A319   \n",
      "\n",
      "  segmentsDurationInSeconds segmentsDistance segmentsCabinCode  \n",
      "0               7140||11760       None||None      coach||coach  \n",
      "1               5340||11160       None||None      coach||coach  \n",
      "2                6900||5940         541||406      coach||coach  \n",
      "3                7440||5160         667||280      coach||coach  \n",
      "4                6900||5940         541||406      coach||coach  \n",
      "\n",
      "[5 rows x 23 columns]\n"
     ]
    }
   ],
   "source": [
    "import pandas as pd\n",
    "df = pd.read_csv(\"data/interim/ATL/ATL_concatenated.csv\")\n",
    "print(df.head())"
   ]
  },
  {
   "cell_type": "code",
   "execution_count": 3,
   "metadata": {},
   "outputs": [
    {
     "name": "stdout",
     "output_type": "stream",
     "text": [
      "{'legId': dtype('O'), 'searchDate': dtype('O'), 'flightDate': dtype('O'), 'startingAirport': dtype('O'), 'destinationAirport': dtype('O'), 'travelDuration': dtype('O'), 'isBasicEconomy': dtype('bool'), 'isRefundable': dtype('bool'), 'isNonStop': dtype('bool'), 'totalFare': dtype('float64'), 'totalTravelDistance': dtype('float64'), 'segmentsDepartureTimeEpochSeconds': dtype('O'), 'segmentsDepartureTimeRaw': dtype('O'), 'segmentsArrivalTimeEpochSeconds': dtype('O'), 'segmentsArrivalTimeRaw': dtype('O'), 'segmentsArrivalAirportCode': dtype('O'), 'segmentsDepartureAirportCode': dtype('O'), 'segmentsAirlineName': dtype('O'), 'segmentsAirlineCode': dtype('O'), 'segmentsEquipmentDescription': dtype('O'), 'segmentsDurationInSeconds': dtype('O'), 'segmentsDistance': dtype('O'), 'segmentsCabinCode': dtype('O')}\n"
     ]
    }
   ],
   "source": [
    "# Extract dtypes\n",
    "dtype_dict = df.dtypes.to_dict()\n",
    "\n",
    "print(dtype_dict)"
   ]
  },
  {
   "cell_type": "code",
   "execution_count": 5,
   "metadata": {},
   "outputs": [],
   "source": [
    "from src.data.data_preprocessor import DataPreprocessor\n",
    "\n",
    "# Create an instance of the DataPreprocessor class\n",
    "preprocessor = DataPreprocessor()\n",
    "\n",
    "# Merge all datasets\n",
    "preprocessor.merge_all_datasets()\n",
    "\n",
    "# Take a 25% random sample of the merged dataset\n",
    "sampled_data = preprocessor.data.sample(frac=0.25).reset_index(drop=True)\n",
    "\n",
    "# Save the sampled dataset to a CSV file\n",
    "sampled_data.to_csv('sampled_data.csv', index=False)"
   ]
  },
  {
   "cell_type": "code",
   "execution_count": 3,
   "metadata": {},
   "outputs": [
    {
     "name": "stdout",
     "output_type": "stream",
     "text": [
      "Data before explosion:\n",
      "                              legId  searchDate  flightDate startingAirport  \\\n",
      "0  e1b137527b9175d7d930c3af82e70ae0  2022-04-19  2022-05-20             OAK   \n",
      "1  d813ebd107e3fa700206c0d96015da7a  2022-04-19  2022-05-20             OAK   \n",
      "2  e8ece5ad6f5962c696e06e031fc2a24a  2022-04-19  2022-05-20             OAK   \n",
      "3  c004a54681335100f326c9613b3c9448  2022-04-19  2022-05-20             OAK   \n",
      "4  4a42bbf77211b4afa7b9e14005949120  2022-04-19  2022-05-20             OAK   \n",
      "\n",
      "  destinationAirport travelDuration  isBasicEconomy  isRefundable  isNonStop  \\\n",
      "0                ATL        PT7H52M           False         False      False   \n",
      "1                ATL        PT6H15M           False         False      False   \n",
      "2                ATL         PT9H6M           False         False      False   \n",
      "3                ATL        PT6H17M           False         False      False   \n",
      "4                ATL       PT14H12M           False         False      False   \n",
      "\n",
      "   totalFare  ...  segmentsArrivalTimeEpochSeconds  \\\n",
      "0     103.98  ...           1653107460||1653126600   \n",
      "1     216.58  ...           1653067080||1653084660   \n",
      "2     216.58  ...           1653056820||1653084660   \n",
      "3     237.58  ...           1653110940||1653127980   \n",
      "4     307.21  ...           1653115560||1653159180   \n",
      "\n",
      "                              segmentsArrivalTimeRaw  \\\n",
      "0  2022-05-20T22:31:00.000-06:00||2022-05-21T05:5...   \n",
      "1  2022-05-20T10:18:00.000-07:00||2022-05-20T18:1...   \n",
      "2  2022-05-20T07:27:00.000-07:00||2022-05-20T18:1...   \n",
      "3  2022-05-20T22:29:00.000-07:00||2022-05-21T06:1...   \n",
      "4  2022-05-20T23:46:00.000-07:00||2022-05-21T14:5...   \n",
      "\n",
      "  segmentsArrivalAirportCode segmentsDepartureAirportCode  \\\n",
      "0                   DEN||ATL                     OAK||DEN   \n",
      "1                   LAX||ATL                     OAK||LAX   \n",
      "2                   LAX||ATL                     OAK||LAX   \n",
      "3                   LAS||ATL                     OAK||LAS   \n",
      "4                   SEA||ATL                     OAK||SEA   \n",
      "\n",
      "                    segmentsAirlineName segmentsAirlineCode  \\\n",
      "0  Frontier Airlines||Frontier Airlines              F9||F9   \n",
      "1      Spirit Airlines||Spirit Airlines              NK||NK   \n",
      "2      Spirit Airlines||Spirit Airlines              NK||NK   \n",
      "3      Spirit Airlines||Spirit Airlines              NK||NK   \n",
      "4      Alaska Airlines||Alaska Airlines              AS||AS   \n",
      "\n",
      "                        segmentsEquipmentDescription  \\\n",
      "0                                      ||Airbus A320   \n",
      "1                  ||AIRBUS INDUSTRIE A320 SHARKLETS   \n",
      "2  AIRBUS INDUSTRIE A320 SHARKLETS||AIRBUS INDUST...   \n",
      "3       AIRBUS INDUSTRIE A320 SHARKLETS||Airbus A319   \n",
      "4                     Boeing 737-900||Boeing 737-900   \n",
      "\n",
      "  segmentsDurationInSeconds segmentsDistance segmentsCabinCode  \n",
      "0               9180||10620        943||1207      coach||coach  \n",
      "1               4920||15600       None||None      coach||coach  \n",
      "2               4920||15600       None||None      coach||coach  \n",
      "3               5580||13980       None||None      coach||coach  \n",
      "4               7500||17580        672||2178      coach||coach  \n",
      "\n",
      "[5 rows x 23 columns]\n",
      "Data after explosion:\n",
      "                              legId  searchDate  flightDate startingAirport  \\\n",
      "0  e1b137527b9175d7d930c3af82e70ae0  2022-04-19  2022-05-20             OAK   \n",
      "1  e1b137527b9175d7d930c3af82e70ae0  2022-04-19  2022-05-20             OAK   \n",
      "2  e1b137527b9175d7d930c3af82e70ae0  2022-04-19  2022-05-20             OAK   \n",
      "3  e1b137527b9175d7d930c3af82e70ae0  2022-04-19  2022-05-20             OAK   \n",
      "4  e1b137527b9175d7d930c3af82e70ae0  2022-04-19  2022-05-20             OAK   \n",
      "\n",
      "  destinationAirport travelDuration  isBasicEconomy  isRefundable  isNonStop  \\\n",
      "0                ATL        PT7H52M           False         False      False   \n",
      "1                ATL        PT7H52M           False         False      False   \n",
      "2                ATL        PT7H52M           False         False      False   \n",
      "3                ATL        PT7H52M           False         False      False   \n",
      "4                ATL        PT7H52M           False         False      False   \n",
      "\n",
      "   totalFare  ...  segmentsArrivalTimeEpochSeconds  \\\n",
      "0     103.98  ...           1653107460||1653126600   \n",
      "1     103.98  ...           1653107460||1653126600   \n",
      "2     103.98  ...           1653107460||1653126600   \n",
      "3     103.98  ...           1653107460||1653126600   \n",
      "4     103.98  ...           1653107460||1653126600   \n",
      "\n",
      "                              segmentsArrivalTimeRaw  \\\n",
      "0  2022-05-20T22:31:00.000-06:00||2022-05-21T05:5...   \n",
      "1  2022-05-20T22:31:00.000-06:00||2022-05-21T05:5...   \n",
      "2  2022-05-20T22:31:00.000-06:00||2022-05-21T05:5...   \n",
      "3  2022-05-20T22:31:00.000-06:00||2022-05-21T05:5...   \n",
      "4  2022-05-20T22:31:00.000-06:00||2022-05-21T05:5...   \n",
      "\n",
      "  segmentsArrivalAirportCode segmentsDepartureAirportCode  \\\n",
      "0                   DEN||ATL                     OAK||DEN   \n",
      "1                   DEN||ATL                     OAK||DEN   \n",
      "2                   DEN||ATL                     OAK||DEN   \n",
      "3                   DEN||ATL                     OAK||DEN   \n",
      "4                   DEN||ATL                     OAK||DEN   \n",
      "\n",
      "                    segmentsAirlineName segmentsAirlineCode  \\\n",
      "0  Frontier Airlines||Frontier Airlines              F9||F9   \n",
      "1  Frontier Airlines||Frontier Airlines              F9||F9   \n",
      "2  Frontier Airlines||Frontier Airlines              F9||F9   \n",
      "3  Frontier Airlines||Frontier Airlines              F9||F9   \n",
      "4  Frontier Airlines||Frontier Airlines              F9||F9   \n",
      "\n",
      "  segmentsEquipmentDescription segmentsDurationInSeconds segmentsDistance  \\\n",
      "0                ||Airbus A320                      9180              943   \n",
      "1                ||Airbus A320                      9180              943   \n",
      "2                ||Airbus A320                      9180             1207   \n",
      "3                ||Airbus A320                      9180             1207   \n",
      "4                ||Airbus A320                     10620              943   \n",
      "\n",
      "  segmentsCabinCode  \n",
      "0             coach  \n",
      "1             coach  \n",
      "2             coach  \n",
      "3             coach  \n",
      "4             coach  \n",
      "\n",
      "[5 rows x 23 columns]\n",
      "Removed 185195132 duplicate rows based on the specified subset of columns\n",
      "Unique values in segmentsCabinCode after split and explode:\n",
      "['coach' 'premium coach' 'first' 'business']\n",
      "No missing values in the processed data.\n",
      "Checking unique values for 'startingAirport' after preprocessing:\n",
      "[1 2 3 4 5 6 7 8 9 10 11 12 13 14 15 16]\n",
      "\n",
      "Category Mappings:\n",
      "{'startingAirport': {'OAK': 1, 'DEN': 2, 'LGA': 3, 'LAX': 4, 'ATL': 5, 'CLT': 6, 'PHL': 7, 'DTW': 8, 'IAD': 9, 'JFK': 10, 'DFW': 11, 'BOS': 12, 'EWR': 13, 'SFO': 14, 'ORD': 15, 'MIA': 16, 'unknown': 0}, 'destinationAirport': {'ATL': 1, 'BOS': 2, 'CLT': 3, 'DEN': 4, 'DFW': 5, 'DTW': 6, 'EWR': 7, 'IAD': 8, 'JFK': 9, 'LAX': 10, 'LGA': 11, 'MIA': 12, 'ORD': 13, 'PHL': 14, 'SFO': 15, 'OAK': 16, 'unknown': 0}, 'segmentsCabinCode': {'coach||coach': 1, 'coach||coach||coach': 2, 'coach': 3, 'coach||coach||premium coach': 4, 'first||first||first': 5, 'coach||coach||coach||coach': 6, 'coach||first||first': 7, 'coach||premium coach||premium coach': 8, 'coach||first||coach': 9, 'first||first||coach': 10, 'coach||business||business': 11, 'business||coach': 12, 'coach||premium coach||coach': 13, 'first||first': 14, 'first||coach': 15, 'coach||coach||first': 16, 'coach||business': 17, 'business||coach||coach': 18, 'business||business': 19, 'first||coach||coach': 20, 'coach||business||coach': 21, 'first||coach||first': 22, 'coach||coach||business': 23, 'coach||premium coach': 24, 'premium coach': 25, 'business||business||coach': 26, 'coach||first': 27, 'business||coach||business': 28, 'first': 29, 'premium coach||premium coach': 30, 'coach||coach||coach||premium coach': 31, 'premium coach||coach': 32, 'premium coach||coach||coach': 33, 'business': 34, 'first||coach||business': 35, 'coach||coach||coach||first': 36, 'premium coach||premium coach||premium coach': 37, 'premium coach||premium coach||coach': 38, 'first||business': 39, 'first||first||coach||coach': 40, 'first||coach||coach||coach': 41, 'premium coach||coach||coach||coach': 42, 'premium coach||first': 43, 'coach||business||first': 44, 'business||first': 45, 'business||first||first': 46, 'premium coach||business||coach': 47, 'coach||coach||first||coach': 48, 'coach||coach||premium coach||premium coach': 49, 'coach||coach||first||first': 50, 'coach||coach||premium coach||coach': 51, 'coach||coach||business||coach': 52, 'unknown': 0}}\n"
     ]
    }
   ],
   "source": [
    "from src.data.data_preprocessor import DataPreprocessor\n",
    "\n",
    "# Create an instance of the DataPreprocessor class\n",
    "preprocessor = DataPreprocessor()\n",
    "\n",
    "# Process all folders\n",
    "preprocessor.merge_and_preprocess_all_datasets()\n",
    "\n",
    "print(\"Checking unique values for 'startingAirport' after preprocessing:\")\n",
    "print(preprocessor.data['startingAirport'].unique())\n",
    "\n",
    "print(\"\\nCategory Mappings:\")\n",
    "print(preprocessor.category_mappings)"
   ]
  },
  {
   "cell_type": "code",
   "execution_count": 5,
   "metadata": {},
   "outputs": [
    {
     "name": "stdout",
     "output_type": "stream",
     "text": [
      "    totalTravelDistance  segmentsDurationInSeconds  segmentsDistance  \\\n",
      "0              0.276832                   0.031077          0.168055   \n",
      "1              0.276832                   0.031077          0.606980   \n",
      "2              0.276832                   0.360661          0.168055   \n",
      "3              0.276832                   0.360661          0.606980   \n",
      "4              0.276832                   0.031077          0.168055   \n",
      "5              0.276832                   0.031077          0.606980   \n",
      "6              0.276832                   0.360661          0.168055   \n",
      "7              0.276832                   0.360661          0.606980   \n",
      "8             -0.015351                  -0.943940         -0.282508   \n",
      "9             -0.015351                   1.500470         -0.282508   \n",
      "10            -0.015351                  -0.943940         -0.282508   \n",
      "11            -0.015351                   1.500470         -0.282508   \n",
      "12            -0.015351                  -0.943940         -0.282508   \n",
      "13            -0.015351                   1.500470         -0.282508   \n",
      "14            -0.015351                  -0.943940         -0.282508   \n",
      "15            -0.015351                   1.500470         -0.282508   \n",
      "16            -0.015351                  -0.792881         -0.282508   \n",
      "17            -0.015351                   1.129688         -0.282508   \n",
      "18            -0.015351                  -0.792881         -0.282508   \n",
      "19            -0.015351                   1.129688         -0.282508   \n",
      "\n",
      "    startingAirport  destinationAirport  segmentsCabinCode  flightDate_year  \\\n",
      "0                 1                   1                  3             2022   \n",
      "1                 1                   1                  3             2022   \n",
      "2                 1                   1                  3             2022   \n",
      "3                 1                   1                  3             2022   \n",
      "4                 1                   1                  3             2022   \n",
      "5                 1                   1                  3             2022   \n",
      "6                 1                   1                  3             2022   \n",
      "7                 1                   1                  3             2022   \n",
      "8                 1                   1                  3             2022   \n",
      "9                 1                   1                  3             2022   \n",
      "10                1                   1                  3             2022   \n",
      "11                1                   1                  3             2022   \n",
      "12                1                   1                  3             2022   \n",
      "13                1                   1                  3             2022   \n",
      "14                1                   1                  3             2022   \n",
      "15                1                   1                  3             2022   \n",
      "16                1                   1                  3             2022   \n",
      "17                1                   1                  3             2022   \n",
      "18                1                   1                  3             2022   \n",
      "19                1                   1                  3             2022   \n",
      "\n",
      "    flightDate_month  flightDate_day  flightDate_weekday  \\\n",
      "0                  5              20                   4   \n",
      "1                  5              20                   4   \n",
      "2                  5              20                   4   \n",
      "3                  5              20                   4   \n",
      "4                  5              20                   4   \n",
      "5                  5              20                   4   \n",
      "6                  5              20                   4   \n",
      "7                  5              20                   4   \n",
      "8                  5              20                   4   \n",
      "9                  5              20                   4   \n",
      "10                 5              20                   4   \n",
      "11                 5              20                   4   \n",
      "12                 5              20                   4   \n",
      "13                 5              20                   4   \n",
      "14                 5              20                   4   \n",
      "15                 5              20                   4   \n",
      "16                 5              20                   4   \n",
      "17                 5              20                   4   \n",
      "18                 5              20                   4   \n",
      "19                 5              20                   4   \n",
      "\n",
      "    flightDate_is_weekend  segmentsDepartureTimeRaw_hour  \\\n",
      "0                   False                             18   \n",
      "1                   False                             18   \n",
      "2                   False                             18   \n",
      "3                   False                             18   \n",
      "4                   False                              0   \n",
      "5                   False                              0   \n",
      "6                   False                              0   \n",
      "7                   False                              0   \n",
      "8                   False                              8   \n",
      "9                   False                              8   \n",
      "10                  False                             10   \n",
      "11                  False                             10   \n",
      "12                  False                              6   \n",
      "13                  False                              6   \n",
      "14                  False                             10   \n",
      "15                  False                             10   \n",
      "16                  False                             20   \n",
      "17                  False                             20   \n",
      "18                  False                             23   \n",
      "19                  False                             23   \n",
      "\n",
      "    segmentsDepartureTimeRaw_minute  totalFare  \n",
      "0                                58     103.98  \n",
      "1                                58     103.98  \n",
      "2                                58     103.98  \n",
      "3                                58     103.98  \n",
      "4                                53     103.98  \n",
      "5                                53     103.98  \n",
      "6                                53     103.98  \n",
      "7                                53     103.98  \n",
      "8                                56     216.58  \n",
      "9                                56     216.58  \n",
      "10                               51     216.58  \n",
      "11                               51     216.58  \n",
      "12                                5     216.58  \n",
      "13                                5     216.58  \n",
      "14                               51     216.58  \n",
      "15                               51     216.58  \n",
      "16                               56     237.58  \n",
      "17                               56     237.58  \n",
      "18                               20     237.58  \n",
      "19                               20     237.58  \n",
      "43054522\n"
     ]
    }
   ],
   "source": [
    "import pandas as pd\n",
    "df1 = pd.read_csv(\"data/processed/merged_data_processed_dl.csv\")\n",
    "print(df1.head(20))\n",
    "print(len(df1))"
   ]
  },
  {
   "cell_type": "code",
   "execution_count": 9,
   "metadata": {},
   "outputs": [
    {
     "name": "stdout",
     "output_type": "stream",
     "text": [
      "[ 0  1  2  3  4  5  6  7  8  9 10 11 12 13 14 15]\n"
     ]
    }
   ],
   "source": [
    "unique_values = df1['destinationAirport'].unique()\n",
    "print(unique_values)"
   ]
  },
  {
   "cell_type": "code",
   "execution_count": 2,
   "metadata": {},
   "outputs": [
    {
     "name": "stderr",
     "output_type": "stream",
     "text": [
      "2023-11-08 02:50:42.252850: I metal_plugin/src/device/metal_device.cc:1154] Metal device set to: Apple M2 Max\n",
      "2023-11-08 02:50:42.252883: I metal_plugin/src/device/metal_device.cc:296] systemMemory: 32.00 GB\n",
      "2023-11-08 02:50:42.252894: I metal_plugin/src/device/metal_device.cc:313] maxCacheSize: 10.67 GB\n",
      "2023-11-08 02:50:42.253099: I tensorflow/core/common_runtime/pluggable_device/pluggable_device_factory.cc:306] Could not identify NUMA node of platform GPU ID 0, defaulting to 0. Your kernel may not have been built with NUMA support.\n",
      "2023-11-08 02:50:42.253453: I tensorflow/core/common_runtime/pluggable_device/pluggable_device_factory.cc:272] Created TensorFlow device (/job:localhost/replica:0/task:0/device:GPU:0 with 0 MB memory) -> physical PluggableDevice (device: 0, name: METAL, pci bus id: <undefined>)\n",
      "WARNING:absl:At this time, the v2.11+ optimizer `tf.keras.optimizers.Adam` runs slowly on M1/M2 Macs, please use the legacy Keras optimizer instead, located at `tf.keras.optimizers.legacy.Adam`.\n"
     ]
    },
    {
     "name": "stdout",
     "output_type": "stream",
     "text": [
      "Epoch 1/50\n"
     ]
    },
    {
     "name": "stderr",
     "output_type": "stream",
     "text": [
      "2023-11-08 02:50:52.474471: I tensorflow/core/grappler/optimizers/custom_graph_optimizer_registry.cc:117] Plugin optimizer for device_type GPU is enabled.\n",
      "2023-11-08 02:50:52.522159: E tensorflow/core/grappler/optimizers/meta_optimizer.cc:961] model_pruner failed: INVALID_ARGUMENT: Graph does not contain terminal node Adam/AssignAddVariableOp.\n"
     ]
    },
    {
     "name": "stdout",
     "output_type": "stream",
     "text": [
      "920/920 [==============================] - ETA: 0s - loss: 47027.5977 - mae: 147.5284 - mse: 47027.5977INFO:tensorflow:Assets written to: models/best_model-vishal_raj/assets\n"
     ]
    },
    {
     "name": "stderr",
     "output_type": "stream",
     "text": [
      "INFO:tensorflow:Assets written to: models/best_model-vishal_raj/assets\n"
     ]
    },
    {
     "name": "stdout",
     "output_type": "stream",
     "text": [
      "920/920 [==============================] - 114s 118ms/step - loss: 47027.5977 - mae: 147.5284 - mse: 47027.5977 - val_loss: 39202.0234 - val_mae: 133.8757 - val_mse: 39202.0234 - lr: 0.0050\n",
      "Epoch 2/50\n",
      "920/920 [==============================] - ETA: 0s - loss: 39304.0547 - mae: 133.9391 - mse: 39304.0547INFO:tensorflow:Assets written to: models/best_model-vishal_raj/assets\n"
     ]
    },
    {
     "name": "stderr",
     "output_type": "stream",
     "text": [
      "INFO:tensorflow:Assets written to: models/best_model-vishal_raj/assets\n"
     ]
    },
    {
     "name": "stdout",
     "output_type": "stream",
     "text": [
      "920/920 [==============================] - 104s 113ms/step - loss: 39304.0547 - mae: 133.9391 - mse: 39304.0547 - val_loss: 38598.4336 - val_mae: 132.7781 - val_mse: 38598.4336 - lr: 0.0050\n",
      "Epoch 3/50\n",
      "920/920 [==============================] - 104s 113ms/step - loss: 38125.7539 - mae: 132.8181 - mse: 38125.7539 - val_loss: 48817.8398 - val_mae: 158.2812 - val_mse: 48817.8398 - lr: 0.0100\n",
      "Epoch 4/50\n",
      "920/920 [==============================] - ETA: 0s - loss: 37914.7070 - mae: 133.3727 - mse: 37914.7070INFO:tensorflow:Assets written to: models/best_model-vishal_raj/assets\n"
     ]
    },
    {
     "name": "stderr",
     "output_type": "stream",
     "text": [
      "INFO:tensorflow:Assets written to: models/best_model-vishal_raj/assets\n"
     ]
    },
    {
     "name": "stdout",
     "output_type": "stream",
     "text": [
      "920/920 [==============================] - 105s 114ms/step - loss: 37914.7070 - mae: 133.3727 - mse: 37914.7070 - val_loss: 36116.0117 - val_mae: 130.9592 - val_mse: 36116.0117 - lr: 0.0100\n",
      "Epoch 5/50\n",
      "920/920 [==============================] - 104s 113ms/step - loss: 36429.1992 - mae: 131.7739 - mse: 36429.1992 - val_loss: 44142.0352 - val_mae: 150.8190 - val_mse: 44142.0352 - lr: 0.0100\n",
      "Epoch 6/50\n",
      "920/920 [==============================] - ETA: 0s - loss: 36224.7734 - mae: 131.6151 - mse: 36224.7734INFO:tensorflow:Assets written to: models/best_model-vishal_raj/assets\n"
     ]
    },
    {
     "name": "stderr",
     "output_type": "stream",
     "text": [
      "INFO:tensorflow:Assets written to: models/best_model-vishal_raj/assets\n"
     ]
    },
    {
     "name": "stdout",
     "output_type": "stream",
     "text": [
      "920/920 [==============================] - 104s 113ms/step - loss: 36224.7734 - mae: 131.6151 - mse: 36224.7734 - val_loss: 35732.8320 - val_mae: 130.4830 - val_mse: 35732.8320 - lr: 0.0100\n",
      "Epoch 7/50\n",
      "920/920 [==============================] - 105s 114ms/step - loss: 36221.3711 - mae: 131.5974 - mse: 36221.3711 - val_loss: 37291.6445 - val_mae: 134.3606 - val_mse: 37291.6445 - lr: 0.0100\n",
      "Epoch 8/50\n",
      "920/920 [==============================] - ETA: 0s - loss: 36093.8516 - mae: 131.2011 - mse: 36093.8516INFO:tensorflow:Assets written to: models/best_model-vishal_raj/assets\n"
     ]
    },
    {
     "name": "stderr",
     "output_type": "stream",
     "text": [
      "INFO:tensorflow:Assets written to: models/best_model-vishal_raj/assets\n"
     ]
    },
    {
     "name": "stdout",
     "output_type": "stream",
     "text": [
      "920/920 [==============================] - 105s 114ms/step - loss: 36093.8516 - mae: 131.2011 - mse: 36093.8516 - val_loss: 35296.7734 - val_mae: 129.4052 - val_mse: 35296.7734 - lr: 0.0100\n",
      "Epoch 9/50\n",
      "920/920 [==============================] - ETA: 0s - loss: 36429.2109 - mae: 131.8264 - mse: 36429.2109INFO:tensorflow:Assets written to: models/best_model-vishal_raj/assets\n"
     ]
    },
    {
     "name": "stderr",
     "output_type": "stream",
     "text": [
      "INFO:tensorflow:Assets written to: models/best_model-vishal_raj/assets\n"
     ]
    },
    {
     "name": "stdout",
     "output_type": "stream",
     "text": [
      "920/920 [==============================] - 105s 114ms/step - loss: 36429.2109 - mae: 131.8264 - mse: 36429.2109 - val_loss: 35245.5039 - val_mae: 128.5719 - val_mse: 35245.5039 - lr: 0.0100\n",
      "Epoch 10/50\n",
      "920/920 [==============================] - 105s 114ms/step - loss: 36120.2500 - mae: 131.1089 - mse: 36120.2500 - val_loss: 35538.5938 - val_mae: 130.2521 - val_mse: 35538.5938 - lr: 0.0100\n",
      "Epoch 11/50\n",
      "920/920 [==============================] - ETA: 0s - loss: 36013.4453 - mae: 130.8271 - mse: 36013.4453INFO:tensorflow:Assets written to: models/best_model-vishal_raj/assets\n"
     ]
    },
    {
     "name": "stderr",
     "output_type": "stream",
     "text": [
      "INFO:tensorflow:Assets written to: models/best_model-vishal_raj/assets\n"
     ]
    },
    {
     "name": "stdout",
     "output_type": "stream",
     "text": [
      "920/920 [==============================] - 105s 114ms/step - loss: 36013.4453 - mae: 130.8271 - mse: 36013.4453 - val_loss: 35111.3125 - val_mae: 128.9933 - val_mse: 35111.3125 - lr: 0.0100\n",
      "Epoch 12/50\n",
      "920/920 [==============================] - 104s 112ms/step - loss: 36168.4180 - mae: 131.1382 - mse: 36168.4180 - val_loss: 35296.5547 - val_mae: 130.2089 - val_mse: 35296.5547 - lr: 0.0100\n",
      "Epoch 13/50\n",
      "920/920 [==============================] - 105s 114ms/step - loss: 36382.5820 - mae: 131.3895 - mse: 36382.5820 - val_loss: 35483.2617 - val_mae: 130.2029 - val_mse: 35483.2617 - lr: 0.0100\n",
      "Epoch 14/50\n",
      "920/920 [==============================] - 108s 117ms/step - loss: 35956.8711 - mae: 130.6091 - mse: 35956.8711 - val_loss: 36454.5352 - val_mae: 132.2220 - val_mse: 36454.5352 - lr: 0.0100\n",
      "198/198 [==============================] - 2s 7ms/step\n",
      "RMSE on test set: 187.51583862304688\n",
      "MAE on test set: 129.0518798828125\n"
     ]
    }
   ],
   "source": [
    "from src.models.train_model_vishal_raj import WideDeepModel\n",
    "\n",
    "# Create an instance of FlightFareModel and load data\n",
    "flight_fare_model = WideDeepModel()\n",
    "\n",
    "# Compute embedding sizes\n",
    "flight_fare_model.compute_embedding_sizes()\n",
    "\n",
    "# Build and compile the model\n",
    "flight_fare_model.build_model()\n",
    "flight_fare_model.compile_model()\n",
    "\n",
    "# Train the model\n",
    "history = flight_fare_model.train_model(epochs=50)\n",
    "\n",
    "# Evaluate the model\n",
    "rmse, mae = flight_fare_model.evaluate(batch_size=32768)\n",
    "\n",
    "print(f\"RMSE on test set: {rmse}\")\n",
    "print(f\"MAE on test set: {mae}\")"
   ]
  },
  {
   "cell_type": "code",
   "execution_count": null,
   "metadata": {},
   "outputs": [],
   "source": [
    "# from src.models.train_model import WideDeepModel\n",
    "\n",
    "# # Create an instance of FlightFareModel and load data\n",
    "# flight_fare_model = WideDeepModel()\n",
    "\n",
    "# # Compute embedding sizes\n",
    "# flight_fare_model.compute_embedding_sizes()\n",
    "\n",
    "# # Hyperparameter tuning\n",
    "# flight_fare_model.hyperparameter_tuning(epochs=10)\n",
    "\n",
    "# # Train the model using the best hyperparameters\n",
    "# flight_fare_model.train_model(epochs=10)  # or more epochs\n",
    "\n",
    "# # Evaluate the model\n",
    "# rmse, mae = flight_fare_model.evaluate(flight_fare_model.data)\n",
    "\n",
    "# print(f\"RMSE on test set: {rmse}\")\n",
    "# print(f\"MAE on test set: {mae}\")"
   ]
  },
  {
   "cell_type": "code",
   "execution_count": 3,
   "metadata": {},
   "outputs": [
    {
     "data": {
      "image/png": "[encoded data removed]",
      "text/plain": [
       "<Figure size 1200x400 with 2 Axes>"
      ]
     },
     "metadata": {},
     "output_type": "display_data"
    }
   ],
   "source": [
    "# Plot training history\n",
    "import matplotlib.pyplot as plt\n",
    "\n",
    "# Plot MAE and MSE\n",
    "plt.figure(figsize=(12, 4))\n",
    "\n",
    "plt.subplot(1, 2, 1)\n",
    "plt.plot(history.history['mae'], label='Train MAE')\n",
    "plt.plot(history.history['val_mae'], label='Validation MAE')\n",
    "plt.legend()\n",
    "plt.title('Mean Absolute Error Progression During Training')\n",
    "\n",
    "plt.subplot(1, 2, 2)\n",
    "plt.plot(history.history['mse'], label='Train MSE')\n",
    "plt.plot(history.history['val_mse'], label='Validation MSE')\n",
    "plt.legend()\n",
    "plt.title('Mean Squared Error Progression During Training')\n",
    "\n",
    "plt.tight_layout()\n",
    "plt.show()"
   ]
  }
 ],
 "metadata": {
  "kernelspec": {
   "display_name": "Python 3",
   "language": "python",
   "name": "python3"
  },
  "language_info": {
   "codemirror_mode": {
    "name": "ipython",
    "version": 3
   },
   "file_extension": ".py",
   "mimetype": "text/x-python",
   "name": "python",
   "nbconvert_exporter": "python",
   "pygments_lexer": "ipython3",
   "version": "3.9.18"
  }
 },
 "nbformat": 4,
 "nbformat_minor": 2
}
