{
 "cells": [
  {
   "cell_type": "code",
   "execution_count": 1,
   "metadata": {},
   "outputs": [],
   "source": [
    "import warnings\n",
    "warnings.filterwarnings(\"ignore\", category=UserWarning, module=\"urllib3\")\n",
    "# Setting the working directory\n",
    "import os\n",
    "os.chdir('/Users/vishalraj/GitHub/Flight_Fare_Prediction')"
   ]
  },
  {
   "cell_type": "code",
   "execution_count": 3,
   "metadata": {},
   "outputs": [],
   "source": [
    "from src.data.make_dataset import load_and_save_data_by_folder\n",
    "\n",
    "path = 'data/raw'\n",
    "\n",
    "# Load and save concatenated data by folder\n",
    "load_and_save_data_by_folder(path)"
   ]
  },
  {
   "cell_type": "code",
   "execution_count": 3,
   "metadata": {},
   "outputs": [
    {
     "name": "stdout",
     "output_type": "stream",
     "text": [
      "                              legId  searchDate  flightDate startingAirport  \\\n",
      "0  ee4aaff43c557e1704ebf52b8abf25ad  2022-05-13  2022-06-15             ATL   \n",
      "1  284bffb121ffdafba55f69d6d89a4b7d  2022-05-13  2022-06-15             ATL   \n",
      "2  8efdd07b82644146d45978f61d081f3b  2022-05-13  2022-06-15             ATL   \n",
      "3  e03c8964b4feb4e206636a9c5c0015b2  2022-05-13  2022-06-15             ATL   \n",
      "4  f44658d6761962cecc3eabc0a29d6ef9  2022-05-13  2022-06-15             ATL   \n",
      "\n",
      "  destinationAirport travelDuration  isBasicEconomy  isRefundable  isNonStop  \\\n",
      "0                BOS        PT8H51M           False         False      False   \n",
      "1                BOS       PT12H31M           False         False      False   \n",
      "2                BOS        PT4H35M           False         False      False   \n",
      "3                BOS        PT4H38M           False         False      False   \n",
      "4                BOS        PT6H43M           False         False      False   \n",
      "\n",
      "   totalFare  ...  segmentsArrivalTimeEpochSeconds  \\\n",
      "0     124.78  ...           1655327040||1655351760   \n",
      "1     138.58  ...           1655309340||1655349060   \n",
      "2     148.60  ...           1655312340||1655321940   \n",
      "3     148.60  ...           1655300100||1655309340   \n",
      "4     148.60  ...           1655304660||1655321940   \n",
      "\n",
      "                              segmentsArrivalTimeRaw  \\\n",
      "0  2022-06-15T17:04:00.000-04:00||2022-06-15T23:5...   \n",
      "1  2022-06-15T12:09:00.000-04:00||2022-06-15T23:1...   \n",
      "2  2022-06-15T12:59:00.000-04:00||2022-06-15T15:3...   \n",
      "3  2022-06-15T09:35:00.000-04:00||2022-06-15T12:0...   \n",
      "4  2022-06-15T10:51:00.000-04:00||2022-06-15T15:3...   \n",
      "\n",
      "  segmentsArrivalAirportCode segmentsDepartureAirportCode  \\\n",
      "0                   FLL||BOS                     ATL||FLL   \n",
      "1                   MCO||BOS                     ATL||MCO   \n",
      "2                   DCA||BOS                     ATL||DCA   \n",
      "3                   PHL||BOS                     ATL||PHL   \n",
      "4                   DCA||BOS                     ATL||DCA   \n",
      "\n",
      "                    segmentsAirlineName segmentsAirlineCode  \\\n",
      "0      Spirit Airlines||Spirit Airlines              NK||NK   \n",
      "1      Spirit Airlines||Spirit Airlines              NK||NK   \n",
      "2  American Airlines||American Airlines              AA||AA   \n",
      "3  American Airlines||American Airlines              AA||AA   \n",
      "4  American Airlines||American Airlines              AA||AA   \n",
      "\n",
      "                        segmentsEquipmentDescription  \\\n",
      "0                                                 ||   \n",
      "1  AIRBUS INDUSTRIE A320 SHARKLETS||AIRBUS INDUST...   \n",
      "2                           Embraer 175||Airbus A319   \n",
      "3                           Airbus A320||Airbus A321   \n",
      "4             Canadair Regional Jet 900||Airbus A319   \n",
      "\n",
      "  segmentsDurationInSeconds segmentsDistance segmentsCabinCode  \n",
      "0               7140||11760       None||None      coach||coach  \n",
      "1               5340||11160       None||None      coach||coach  \n",
      "2                6900||5940         541||406      coach||coach  \n",
      "3                7440||5160         667||280      coach||coach  \n",
      "4                6900||5940         541||406      coach||coach  \n",
      "\n",
      "[5 rows x 23 columns]\n"
     ]
    }
   ],
   "source": [
    "import pandas as pd\n",
    "df = pd.read_csv(\"data/interim/ATL/ATL_concatenated.csv\")\n",
    "print(df.head())"
   ]
  },
  {
   "cell_type": "code",
   "execution_count": 3,
   "metadata": {},
   "outputs": [
    {
     "name": "stdout",
     "output_type": "stream",
     "text": [
      "{'legId': dtype('O'), 'searchDate': dtype('O'), 'flightDate': dtype('O'), 'startingAirport': dtype('O'), 'destinationAirport': dtype('O'), 'travelDuration': dtype('O'), 'isBasicEconomy': dtype('bool'), 'isRefundable': dtype('bool'), 'isNonStop': dtype('bool'), 'totalFare': dtype('float64'), 'totalTravelDistance': dtype('float64'), 'segmentsDepartureTimeEpochSeconds': dtype('O'), 'segmentsDepartureTimeRaw': dtype('O'), 'segmentsArrivalTimeEpochSeconds': dtype('O'), 'segmentsArrivalTimeRaw': dtype('O'), 'segmentsArrivalAirportCode': dtype('O'), 'segmentsDepartureAirportCode': dtype('O'), 'segmentsAirlineName': dtype('O'), 'segmentsAirlineCode': dtype('O'), 'segmentsEquipmentDescription': dtype('O'), 'segmentsDurationInSeconds': dtype('O'), 'segmentsDistance': dtype('O'), 'segmentsCabinCode': dtype('O')}\n"
     ]
    }
   ],
   "source": [
    "# Extract dtypes\n",
    "dtype_dict = df.dtypes.to_dict()\n",
    "\n",
    "print(dtype_dict)"
   ]
  },
  {
   "cell_type": "code",
   "execution_count": 5,
   "metadata": {},
   "outputs": [],
   "source": [
    "from src.data.data_preprocessor import DataPreprocessor\n",
    "\n",
    "# Create an instance of the DataPreprocessor class\n",
    "preprocessor = DataPreprocessor()\n",
    "\n",
    "# Merge all datasets\n",
    "preprocessor.merge_all_datasets()\n",
    "\n",
    "# Take a 25% random sample of the merged dataset\n",
    "sampled_data = preprocessor.data.sample(frac=0.25).reset_index(drop=True)\n",
    "\n",
    "# Save the sampled dataset to a CSV file\n",
    "sampled_data.to_csv('sampled_data.csv', index=False)"
   ]
  },
  {
   "cell_type": "code",
   "execution_count": 2,
   "metadata": {},
   "outputs": [
    {
     "name": "stdout",
     "output_type": "stream",
     "text": [
      "Removed 185195132 duplicate rows based on the specified subset of columns\n",
      "Unique values in segmentsCabinCode after split and explode:\n",
      "['coach' 'premium coach' 'first' 'business']\n",
      "No missing values in the processed data.\n",
      "totalTravelDistance                float32\n",
      "segmentsDurationInSeconds          float32\n",
      "segmentsDistance                   float32\n",
      "startingAirport                       int8\n",
      "destinationAirport                    int8\n",
      "segmentsCabinCode                     int8\n",
      "flightDate_year                      int16\n",
      "flightDate_month                      int8\n",
      "flightDate_day                        int8\n",
      "flightDate_weekday                    int8\n",
      "flightDate_is_weekend               object\n",
      "segmentsDepartureTimeRaw_hour         int8\n",
      "segmentsDepartureTimeRaw_minute       int8\n",
      "modeFare                           float32\n",
      "dtype: object\n",
      "Stored 'processed_data' (DataFrame)\n",
      "Stored 'preprocessor' (ColumnTransformer)\n",
      "Stored 'avg_features' (DataFrame)\n",
      "Checking unique values for 'startingAirport' after preprocessing:\n",
      "[ 1  2  3  4  5  6  7  8  9 10 11 12 13 14 15 16]\n",
      "\n",
      "Category Mappings:\n",
      "{'startingAirport': {'OAK': 1, 'DEN': 2, 'LGA': 3, 'LAX': 4, 'ATL': 5, 'CLT': 6, 'PHL': 7, 'DTW': 8, 'IAD': 9, 'JFK': 10, 'DFW': 11, 'BOS': 12, 'EWR': 13, 'SFO': 14, 'ORD': 15, 'MIA': 16, 'unknown': 0}, 'destinationAirport': {'ATL': 1, 'BOS': 2, 'CLT': 3, 'DEN': 4, 'DFW': 5, 'DTW': 6, 'EWR': 7, 'IAD': 8, 'JFK': 9, 'LAX': 10, 'LGA': 11, 'MIA': 12, 'ORD': 13, 'PHL': 14, 'SFO': 15, 'OAK': 16, 'unknown': 0}, 'segmentsCabinCode': {'coach||coach': 1, 'coach||coach||coach': 2, 'coach': 3, 'coach||coach||premium coach': 4, 'first||first||first': 5, 'coach||coach||coach||coach': 6, 'coach||first||first': 7, 'coach||premium coach||premium coach': 8, 'coach||first||coach': 9, 'first||first||coach': 10, 'coach||business||business': 11, 'business||coach': 12, 'coach||premium coach||coach': 13, 'first||first': 14, 'first||coach': 15, 'coach||coach||first': 16, 'coach||business': 17, 'business||coach||coach': 18, 'business||business': 19, 'first||coach||coach': 20, 'coach||business||coach': 21, 'first||coach||first': 22, 'coach||coach||business': 23, 'coach||premium coach': 24, 'premium coach': 25, 'business||business||coach': 26, 'coach||first': 27, 'business||coach||business': 28, 'first': 29, 'premium coach||premium coach': 30, 'coach||coach||coach||premium coach': 31, 'premium coach||coach': 32, 'premium coach||coach||coach': 33, 'business': 34, 'first||coach||business': 35, 'coach||coach||coach||first': 36, 'premium coach||premium coach||premium coach': 37, 'premium coach||premium coach||coach': 38, 'first||business': 39, 'first||first||coach||coach': 40, 'first||coach||coach||coach': 41, 'premium coach||coach||coach||coach': 42, 'premium coach||first': 43, 'coach||business||first': 44, 'business||first': 45, 'business||first||first': 46, 'premium coach||business||coach': 47, 'coach||coach||first||coach': 48, 'coach||coach||premium coach||premium coach': 49, 'coach||coach||first||first': 50, 'coach||coach||premium coach||coach': 51, 'coach||coach||business||coach': 52, 'unknown': 0}}\n"
     ]
    }
   ],
   "source": [
    "from src.data.data_preprocessor import DataPreprocessor\n",
    "\n",
    "# Create an instance of the DataPreprocessor class\n",
    "data_preprocessor = DataPreprocessor()\n",
    "\n",
    "# Process all folders and obtain processed data, the preprocessor object, and average features directly\n",
    "processed_data, preprocessor, avg_features = data_preprocessor.merge_and_preprocess_all_datasets()\n",
    "\n",
    "# Store processed_data in a variable to use in the next cell\n",
    "%store processed_data\n",
    "%store preprocessor\n",
    "%store avg_features\n",
    "\n",
    "print(\"Checking unique values for 'startingAirport' after preprocessing:\")\n",
    "print(processed_data['startingAirport'].unique())\n",
    "\n",
    "print(\"\\nCategory Mappings:\")\n",
    "print(data_preprocessor.category_mappings)"
   ]
  },
  {
   "cell_type": "code",
   "execution_count": 3,
   "metadata": {},
   "outputs": [
    {
     "name": "stdout",
     "output_type": "stream",
     "text": [
      "    totalTravelDistance  segmentsDurationInSeconds  segmentsDistance  \\\n",
      "0              1.761712                  -0.369292         -0.267698   \n",
      "1              1.761712                  -0.369292          0.300674   \n",
      "2              1.761712                  -0.369292          1.295737   \n",
      "3              1.761712                   0.154768         -0.267698   \n",
      "4              1.761712                   0.154768          0.300674   \n",
      "5              1.761712                   0.154768          1.295737   \n",
      "6              1.761712                   1.037396         -0.267698   \n",
      "7              1.761712                   1.037396          0.300674   \n",
      "8              1.761712                   1.037396          1.295737   \n",
      "9              1.761712                  -0.369292         -0.267698   \n",
      "10             1.761712                  -0.369292          0.300674   \n",
      "11             1.761712                  -0.369292          1.295737   \n",
      "12             1.761712                   0.154768         -0.267698   \n",
      "13             1.761712                   0.154768          0.300674   \n",
      "14             1.761712                   0.154768          1.295737   \n",
      "15             1.761712                   1.037396         -0.267698   \n",
      "16             1.761712                   1.037396          0.300674   \n",
      "17             1.761712                   1.037396          1.295737   \n",
      "18             1.761712                  -0.369292         -0.267698   \n",
      "19             1.761712                  -0.369292          0.300674   \n",
      "\n",
      "    startingAirport  destinationAirport  segmentsCabinCode  flightDate_year  \\\n",
      "0                 1                   1                  3             2022   \n",
      "1                 1                   1                  3             2022   \n",
      "2                 1                   1                  3             2022   \n",
      "3                 1                   1                  3             2022   \n",
      "4                 1                   1                  3             2022   \n",
      "5                 1                   1                  3             2022   \n",
      "6                 1                   1                  3             2022   \n",
      "7                 1                   1                  3             2022   \n",
      "8                 1                   1                  3             2022   \n",
      "9                 1                   1                  3             2022   \n",
      "10                1                   1                  3             2022   \n",
      "11                1                   1                  3             2022   \n",
      "12                1                   1                  3             2022   \n",
      "13                1                   1                  3             2022   \n",
      "14                1                   1                  3             2022   \n",
      "15                1                   1                  3             2022   \n",
      "16                1                   1                  3             2022   \n",
      "17                1                   1                  3             2022   \n",
      "18                1                   1                  3             2022   \n",
      "19                1                   1                  3             2022   \n",
      "\n",
      "    flightDate_month  flightDate_day  flightDate_weekday  \\\n",
      "0                  5               6                   4   \n",
      "1                  5               6                   4   \n",
      "2                  5               6                   4   \n",
      "3                  5               6                   4   \n",
      "4                  5               6                   4   \n",
      "5                  5               6                   4   \n",
      "6                  5               6                   4   \n",
      "7                  5               6                   4   \n",
      "8                  5               6                   4   \n",
      "9                  5               6                   4   \n",
      "10                 5               6                   4   \n",
      "11                 5               6                   4   \n",
      "12                 5               6                   4   \n",
      "13                 5               6                   4   \n",
      "14                 5               6                   4   \n",
      "15                 5               6                   4   \n",
      "16                 5               6                   4   \n",
      "17                 5               6                   4   \n",
      "18                 5               6                   4   \n",
      "19                 5               6                   4   \n",
      "\n",
      "    flightDate_is_weekend  segmentsDepartureTimeRaw_hour  \\\n",
      "0                   False                             17   \n",
      "1                   False                             17   \n",
      "2                   False                             17   \n",
      "3                   False                             17   \n",
      "4                   False                             17   \n",
      "5                   False                             17   \n",
      "6                   False                             17   \n",
      "7                   False                             17   \n",
      "8                   False                             17   \n",
      "9                   False                             20   \n",
      "10                  False                             20   \n",
      "11                  False                             20   \n",
      "12                  False                             20   \n",
      "13                  False                             20   \n",
      "14                  False                             20   \n",
      "15                  False                             20   \n",
      "16                  False                             20   \n",
      "17                  False                             20   \n",
      "18                  False                              7   \n",
      "19                  False                              7   \n",
      "\n",
      "    segmentsDepartureTimeRaw_minute  modeFare  \n",
      "0                                10    695.71  \n",
      "1                                10    695.71  \n",
      "2                                10    695.71  \n",
      "3                                10    695.71  \n",
      "4                                10    695.71  \n",
      "5                                10    695.71  \n",
      "6                                10    695.71  \n",
      "7                                10    695.71  \n",
      "8                                10    695.71  \n",
      "9                                 5    695.71  \n",
      "10                                5    695.71  \n",
      "11                                5    695.71  \n",
      "12                                5    695.71  \n",
      "13                                5    695.71  \n",
      "14                                5    695.71  \n",
      "15                                5    695.71  \n",
      "16                                5    695.71  \n",
      "17                                5    695.71  \n",
      "18                               31    695.71  \n",
      "19                               31    695.71  \n",
      "4314878\n"
     ]
    }
   ],
   "source": [
    "import pandas as pd\n",
    "df1 = pd.read_csv(\"data/processed/merged_data_processed_dl.csv\")\n",
    "print(df1.head(20))\n",
    "print(len(df1))"
   ]
  },
  {
   "cell_type": "code",
   "execution_count": 5,
   "metadata": {},
   "outputs": [
    {
     "name": "stdout",
     "output_type": "stream",
     "text": [
      "{'totalTravelDistance': dtype('float64'), 'segmentsDurationInSeconds': dtype('float64'), 'segmentsDistance': dtype('float64'), 'startingAirport': dtype('int64'), 'destinationAirport': dtype('int64'), 'segmentsCabinCode': dtype('int64'), 'flightDate_year': dtype('int64'), 'flightDate_month': dtype('int64'), 'flightDate_day': dtype('int64'), 'flightDate_weekday': dtype('int64'), 'flightDate_is_weekend': dtype('bool'), 'segmentsDepartureTimeRaw_hour': dtype('int64'), 'segmentsDepartureTimeRaw_minute': dtype('int64'), 'modeFare': dtype('float64')}\n"
     ]
    }
   ],
   "source": [
    "# Extract dtypes\n",
    "dtype_dict = df1.dtypes.to_dict()\n",
    "\n",
    "print(dtype_dict)"
   ]
  },
  {
   "cell_type": "code",
   "execution_count": 9,
   "metadata": {},
   "outputs": [
    {
     "name": "stdout",
     "output_type": "stream",
     "text": [
      "[ 0  1  2  3  4  5  6  7  8  9 10 11 12 13 14 15]\n"
     ]
    }
   ],
   "source": [
    "unique_values = df1['destinationAirport'].unique()\n",
    "print(unique_values)"
   ]
  },
  {
   "cell_type": "code",
   "execution_count": 3,
   "metadata": {},
   "outputs": [
    {
     "name": "stderr",
     "output_type": "stream",
     "text": [
      "2023-11-08 19:17:25.307217: I metal_plugin/src/device/metal_device.cc:1154] Metal device set to: Apple M2 Max\n",
      "2023-11-08 19:17:25.307236: I metal_plugin/src/device/metal_device.cc:296] systemMemory: 32.00 GB\n",
      "2023-11-08 19:17:25.307244: I metal_plugin/src/device/metal_device.cc:313] maxCacheSize: 10.67 GB\n",
      "2023-11-08 19:17:25.307298: I tensorflow/core/common_runtime/pluggable_device/pluggable_device_factory.cc:306] Could not identify NUMA node of platform GPU ID 0, defaulting to 0. Your kernel may not have been built with NUMA support.\n",
      "2023-11-08 19:17:25.307512: I tensorflow/core/common_runtime/pluggable_device/pluggable_device_factory.cc:272] Created TensorFlow device (/job:localhost/replica:0/task:0/device:GPU:0 with 0 MB memory) -> physical PluggableDevice (device: 0, name: METAL, pci bus id: <undefined>)\n",
      "WARNING:absl:At this time, the v2.11+ optimizer `tf.keras.optimizers.Adam` runs slowly on M1/M2 Macs, please use the legacy Keras optimizer instead, located at `tf.keras.optimizers.legacy.Adam`.\n"
     ]
    },
    {
     "name": "stdout",
     "output_type": "stream",
     "text": [
      "Epoch 1/50\n"
     ]
    },
    {
     "name": "stderr",
     "output_type": "stream",
     "text": [
      "2023-11-08 19:17:38.345679: I tensorflow/core/grappler/optimizers/custom_graph_optimizer_registry.cc:117] Plugin optimizer for device_type GPU is enabled.\n",
      "2023-11-08 19:17:38.397206: E tensorflow/core/grappler/optimizers/meta_optimizer.cc:961] model_pruner failed: INVALID_ARGUMENT: Graph does not contain terminal node Adam/AssignAddVariableOp.\n"
     ]
    },
    {
     "name": "stdout",
     "output_type": "stream",
     "text": [
      "889/889 [==============================] - ETA: 0s - loss: 54334.9492 - mae: 154.2171 - mse: 54334.9492INFO:tensorflow:Assets written to: models/best_model-vishal_raj/assets\n"
     ]
    },
    {
     "name": "stderr",
     "output_type": "stream",
     "text": [
      "INFO:tensorflow:Assets written to: models/best_model-vishal_raj/assets\n"
     ]
    },
    {
     "name": "stdout",
     "output_type": "stream",
     "text": [
      "889/889 [==============================] - 121s 130ms/step - loss: 54334.9492 - mae: 154.2171 - mse: 54334.9492 - val_loss: 35806.6094 - val_mae: 125.9989 - val_mse: 35806.6094 - lr: 0.0050\n",
      "Epoch 2/50\n",
      "888/889 [============================>.] - ETA: 0s - loss: 36191.9883 - mae: 127.0257 - mse: 36191.9883INFO:tensorflow:Assets written to: models/best_model-vishal_raj/assets\n"
     ]
    },
    {
     "name": "stderr",
     "output_type": "stream",
     "text": [
      "INFO:tensorflow:Assets written to: models/best_model-vishal_raj/assets\n"
     ]
    },
    {
     "name": "stdout",
     "output_type": "stream",
     "text": [
      "889/889 [==============================] - 112s 126ms/step - loss: 36191.6211 - mae: 127.0255 - mse: 36191.6211 - val_loss: 35576.2539 - val_mae: 125.4517 - val_mse: 35576.2539 - lr: 0.0050\n",
      "Epoch 3/50\n",
      "889/889 [==============================] - 111s 125ms/step - loss: 35580.6602 - mae: 125.7453 - mse: 35580.6602 - val_loss: 47722.0117 - val_mae: 153.1560 - val_mse: 47722.0117 - lr: 0.0100\n",
      "Epoch 4/50\n",
      "888/889 [============================>.] - ETA: 0s - loss: 33962.1055 - mae: 124.4785 - mse: 33962.1055INFO:tensorflow:Assets written to: models/best_model-vishal_raj/assets\n"
     ]
    },
    {
     "name": "stderr",
     "output_type": "stream",
     "text": [
      "INFO:tensorflow:Assets written to: models/best_model-vishal_raj/assets\n"
     ]
    },
    {
     "name": "stdout",
     "output_type": "stream",
     "text": [
      "889/889 [==============================] - 112s 126ms/step - loss: 33962.3359 - mae: 124.4788 - mse: 33962.3359 - val_loss: 32315.5371 - val_mae: 122.3777 - val_mse: 32315.5371 - lr: 0.0100\n",
      "Epoch 5/50\n",
      "888/889 [============================>.] - ETA: 0s - loss: 32271.5918 - mae: 123.4196 - mse: 32271.5918INFO:tensorflow:Assets written to: models/best_model-vishal_raj/assets\n"
     ]
    },
    {
     "name": "stderr",
     "output_type": "stream",
     "text": [
      "INFO:tensorflow:Assets written to: models/best_model-vishal_raj/assets\n"
     ]
    },
    {
     "name": "stdout",
     "output_type": "stream",
     "text": [
      "889/889 [==============================] - 101s 114ms/step - loss: 32271.3691 - mae: 123.4194 - mse: 32271.3691 - val_loss: 31883.7363 - val_mae: 123.4406 - val_mse: 31883.7363 - lr: 0.0100\n",
      "Epoch 6/50\n",
      "889/889 [==============================] - 98s 110ms/step - loss: 32269.3984 - mae: 123.5531 - mse: 32269.3984 - val_loss: 32516.7773 - val_mae: 125.2501 - val_mse: 32516.7773 - lr: 0.0100\n",
      "Epoch 7/50\n",
      "888/889 [============================>.] - ETA: 0s - loss: 32402.0898 - mae: 123.8131 - mse: 32402.0898INFO:tensorflow:Assets written to: models/best_model-vishal_raj/assets\n"
     ]
    },
    {
     "name": "stderr",
     "output_type": "stream",
     "text": [
      "INFO:tensorflow:Assets written to: models/best_model-vishal_raj/assets\n"
     ]
    },
    {
     "name": "stdout",
     "output_type": "stream",
     "text": [
      "889/889 [==============================] - 99s 111ms/step - loss: 32401.5098 - mae: 123.8121 - mse: 32401.5098 - val_loss: 31447.9512 - val_mae: 121.3726 - val_mse: 31447.9512 - lr: 0.0100\n",
      "Epoch 8/50\n",
      "889/889 [==============================] - 99s 112ms/step - loss: 32577.2617 - mae: 124.1438 - mse: 32577.2617 - val_loss: 31889.3867 - val_mae: 122.5844 - val_mse: 31889.3867 - lr: 0.0100\n",
      "Epoch 9/50\n",
      "888/889 [============================>.] - ETA: 0s - loss: 32716.8789 - mae: 124.4397 - mse: 32716.8789INFO:tensorflow:Assets written to: models/best_model-vishal_raj/assets\n"
     ]
    },
    {
     "name": "stderr",
     "output_type": "stream",
     "text": [
      "INFO:tensorflow:Assets written to: models/best_model-vishal_raj/assets\n"
     ]
    },
    {
     "name": "stdout",
     "output_type": "stream",
     "text": [
      "889/889 [==============================] - 100s 112ms/step - loss: 32716.3770 - mae: 124.4388 - mse: 32716.3770 - val_loss: 31388.6621 - val_mae: 120.5053 - val_mse: 31388.6621 - lr: 0.0100\n",
      "Epoch 10/50\n",
      "889/889 [==============================] - 97s 109ms/step - loss: 33004.3320 - mae: 125.0716 - mse: 33004.3320 - val_loss: 31714.0469 - val_mae: 120.2714 - val_mse: 31714.0469 - lr: 0.0100\n",
      "Epoch 11/50\n",
      "889/889 [==============================] - 98s 110ms/step - loss: 33028.1602 - mae: 125.0143 - mse: 33028.1602 - val_loss: 33859.5469 - val_mae: 129.7118 - val_mse: 33859.5469 - lr: 0.0100\n",
      "Epoch 12/50\n",
      "889/889 [==============================] - 99s 111ms/step - loss: 33256.5312 - mae: 125.4147 - mse: 33256.5312 - val_loss: 38837.4492 - val_mae: 136.4025 - val_mse: 38837.4492 - lr: 0.0100\n",
      "191/191 [==============================] - 1s 5ms/step\n",
      "RMSE on test set: 177.04859924316406\n",
      "MAE on test set: 120.44410705566406\n"
     ]
    }
   ],
   "source": [
    "%store -r processed_data\n",
    "%store -r preprocessor\n",
    "%store -r avg_features\n",
    "\n",
    "from src.models.train_model_vishal_raj import WideDeepModel\n",
    "\n",
    "# Create an instance of WideDeepModel using processed data\n",
    "flight_fare_model = WideDeepModel(processed_data, preprocessor, avg_features)\n",
    "\n",
    "# Compute embedding sizes\n",
    "flight_fare_model.compute_embedding_sizes()\n",
    "\n",
    "# Build and compile the model\n",
    "flight_fare_model.build_model()\n",
    "flight_fare_model.compile_model()\n",
    "\n",
    "# Train the model\n",
    "history = flight_fare_model.train_model(epochs=50)\n",
    "\n",
    "# Evaluate the model\n",
    "rmse, mae = flight_fare_model.evaluate(batch_size=32768)\n",
    "\n",
    "print(f\"RMSE on test set: {rmse}\")\n",
    "print(f\"MAE on test set: {mae}\")"
   ]
  },
  {
   "cell_type": "code",
   "execution_count": null,
   "metadata": {},
   "outputs": [],
   "source": [
    "# from src.models.train_model import WideDeepModel\n",
    "\n",
    "# # Create an instance of FlightFareModel and load data\n",
    "# flight_fare_model = WideDeepModel()\n",
    "\n",
    "# # Compute embedding sizes\n",
    "# flight_fare_model.compute_embedding_sizes()\n",
    "\n",
    "# # Hyperparameter tuning\n",
    "# flight_fare_model.hyperparameter_tuning(epochs=10)\n",
    "\n",
    "# # Train the model using the best hyperparameters\n",
    "# flight_fare_model.train_model(epochs=10)  # or more epochs\n",
    "\n",
    "# # Evaluate the model\n",
    "# rmse, mae = flight_fare_model.evaluate(flight_fare_model.data)\n",
    "\n",
    "# print(f\"RMSE on test set: {rmse}\")\n",
    "# print(f\"MAE on test set: {mae}\")"
   ]
  },
  {
   "cell_type": "code",
   "execution_count": 4,
   "metadata": {},
   "outputs": [
    {
     "data": {
      "image/png": "[encoded data removed]",
      "text/plain": [
       "<Figure size 1200x400 with 2 Axes>"
      ]
     },
     "metadata": {},
     "output_type": "display_data"
    }
   ],
   "source": [
    "# Plot training history\n",
    "import matplotlib.pyplot as plt\n",
    "\n",
    "# Plot MAE and MSE\n",
    "plt.figure(figsize=(12, 4))\n",
    "\n",
    "plt.subplot(1, 2, 1)\n",
    "plt.plot(history.history['mae'], label='Train MAE')\n",
    "plt.plot(history.history['val_mae'], label='Validation MAE')\n",
    "plt.legend()\n",
    "plt.title('Mean Absolute Error Progression During Training')\n",
    "\n",
    "plt.subplot(1, 2, 2)\n",
    "plt.plot(history.history['mse'], label='Train MSE')\n",
    "plt.plot(history.history['val_mse'], label='Validation MSE')\n",
    "plt.legend()\n",
    "plt.title('Mean Squared Error Progression During Training')\n",
    "\n",
    "plt.tight_layout()\n",
    "plt.show()"
   ]
  }
 ],
 "metadata": {
  "kernelspec": {
   "display_name": "Python 3",
   "language": "python",
   "name": "python3"
  },
  "language_info": {
   "codemirror_mode": {
    "name": "ipython",
    "version": 3
   },
   "file_extension": ".py",
   "mimetype": "text/x-python",
   "name": "python",
   "nbconvert_exporter": "python",
   "pygments_lexer": "ipython3",
   "version": "3.9.18"
  }
 },
 "nbformat": 4,
 "nbformat_minor": 2
}
